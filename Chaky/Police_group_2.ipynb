{
 "cells": [
  {
   "cell_type": "markdown",
   "metadata": {},
   "source": [
    "# Check compatibility of columns of the 4 Police data bases\n",
    "\n",
    "Note: compare to https://interior.gencat.cat/ca/el_departament/adreces-i-telefons/regions_policials/"
   ]
  },
  {
   "cell_type": "code",
   "execution_count": 1,
   "metadata": {},
   "outputs": [],
   "source": [
    "# save data base ids in a dict\n",
    "ids = {\"Martina\": \"vvp8-t2ai\",\n",
    "       \"Nil\": \"qxev-y8x7\",\n",
    "       \"Robert\": \"bp4b-qsst\",\n",
    "       \"Adrián\": \"gci6-2ubm\"}"
   ]
  },
  {
   "cell_type": "code",
   "execution_count": 2,
   "metadata": {},
   "outputs": [
    {
     "name": "stderr",
     "output_type": "stream",
     "text": [
      "WARNING:root:Requests made without an app_token will be subject to strict throttling limits.\n"
     ]
    }
   ],
   "source": [
    "# connect to analisi.transparència.cat API client\n",
    "import pandas as pd\n",
    "from sodapy import Socrata\n",
    "\n",
    "client = Socrata(\"analisi.transparenciacatalunya.cat\", None)"
   ]
  },
  {
   "cell_type": "code",
   "execution_count": 3,
   "metadata": {},
   "outputs": [],
   "source": [
    "# load data frames for each data set into a dictionary\n",
    "results = {key: pd.DataFrame.from_records(client.get(ids[key], limit=2000)) for key in ids.keys()}\n"
   ]
  },
  {
   "cell_type": "markdown",
   "metadata": {},
   "source": [
    "### show the 4 data bases & identify the name of the territory column"
   ]
  },
  {
   "cell_type": "code",
   "execution_count": 4,
   "metadata": {},
   "outputs": [
    {
     "data": {
      "text/html": [
       "<div>\n",
       "<style scoped>\n",
       "    .dataframe tbody tr th:only-of-type {\n",
       "        vertical-align: middle;\n",
       "    }\n",
       "\n",
       "    .dataframe tbody tr th {\n",
       "        vertical-align: top;\n",
       "    }\n",
       "\n",
       "    .dataframe thead th {\n",
       "        text-align: right;\n",
       "    }\n",
       "</style>\n",
       "<table border=\"1\" class=\"dataframe\">\n",
       "  <thead>\n",
       "    <tr style=\"text-align: right;\">\n",
       "      <th></th>\n",
       "      <th>mes</th>\n",
       "      <th>nom_mes</th>\n",
       "      <th>any</th>\n",
       "      <th>servei_origen_dotaci</th>\n",
       "      <th>mitjana_patrulles_di_ries</th>\n",
       "    </tr>\n",
       "  </thead>\n",
       "  <tbody>\n",
       "    <tr>\n",
       "      <th>0</th>\n",
       "      <td>1</td>\n",
       "      <td>Gener</td>\n",
       "      <td>2011</td>\n",
       "      <td>Serveis Centrals</td>\n",
       "      <td>176</td>\n",
       "    </tr>\n",
       "    <tr>\n",
       "      <th>1</th>\n",
       "      <td>1</td>\n",
       "      <td>Gener</td>\n",
       "      <td>2011</td>\n",
       "      <td>Serveis Regionals - RP Central</td>\n",
       "      <td>34</td>\n",
       "    </tr>\n",
       "    <tr>\n",
       "      <th>2</th>\n",
       "      <td>1</td>\n",
       "      <td>Gener</td>\n",
       "      <td>2011</td>\n",
       "      <td>ABP Osona</td>\n",
       "      <td>22</td>\n",
       "    </tr>\n",
       "  </tbody>\n",
       "</table>\n",
       "</div>"
      ],
      "text/plain": [
       "  mes nom_mes   any            servei_origen_dotaci mitjana_patrulles_di_ries\n",
       "0   1   Gener  2011                Serveis Centrals                       176\n",
       "1   1   Gener  2011  Serveis Regionals - RP Central                        34\n",
       "2   1   Gener  2011                       ABP Osona                        22"
      ]
     },
     "execution_count": 4,
     "metadata": {},
     "output_type": "execute_result"
    }
   ],
   "source": [
    "results[\"Martina\"].head(3) # servei_origen_dotaci"
   ]
  },
  {
   "cell_type": "code",
   "execution_count": 5,
   "metadata": {},
   "outputs": [
    {
     "data": {
      "text/html": [
       "<div>\n",
       "<style scoped>\n",
       "    .dataframe tbody tr th:only-of-type {\n",
       "        vertical-align: middle;\n",
       "    }\n",
       "\n",
       "    .dataframe tbody tr th {\n",
       "        vertical-align: top;\n",
       "    }\n",
       "\n",
       "    .dataframe thead th {\n",
       "        text-align: right;\n",
       "    }\n",
       "</style>\n",
       "<table border=\"1\" class=\"dataframe\">\n",
       "  <thead>\n",
       "    <tr style=\"text-align: right;\">\n",
       "      <th></th>\n",
       "      <th>mes</th>\n",
       "      <th>nom_mes</th>\n",
       "      <th>any</th>\n",
       "      <th>regi_policial_rp</th>\n",
       "      <th>rea_b_sica_policial_abp</th>\n",
       "      <th>nombre_de_visites</th>\n",
       "      <th>mitjana_temps_espera</th>\n",
       "    </tr>\n",
       "  </thead>\n",
       "  <tbody>\n",
       "    <tr>\n",
       "      <th>0</th>\n",
       "      <td>1</td>\n",
       "      <td>Gener</td>\n",
       "      <td>2011</td>\n",
       "      <td>RP Pirineu Occidental</td>\n",
       "      <td>ABP Alt Urgell</td>\n",
       "      <td>129</td>\n",
       "      <td>00:05:44</td>\n",
       "    </tr>\n",
       "    <tr>\n",
       "      <th>1</th>\n",
       "      <td>1</td>\n",
       "      <td>Gener</td>\n",
       "      <td>2011</td>\n",
       "      <td>RP Pirineu Occidental</td>\n",
       "      <td>ABP Cerdanya</td>\n",
       "      <td>78</td>\n",
       "      <td>00:11:17</td>\n",
       "    </tr>\n",
       "    <tr>\n",
       "      <th>2</th>\n",
       "      <td>1</td>\n",
       "      <td>Gener</td>\n",
       "      <td>2011</td>\n",
       "      <td>RP Pirineu Occidental</td>\n",
       "      <td>ABP Pallars Jussà - Pallars Sobirà</td>\n",
       "      <td>101</td>\n",
       "      <td>00:04:30</td>\n",
       "    </tr>\n",
       "  </tbody>\n",
       "</table>\n",
       "</div>"
      ],
      "text/plain": [
       "  mes nom_mes   any       regi_policial_rp  \\\n",
       "0   1   Gener  2011  RP Pirineu Occidental   \n",
       "1   1   Gener  2011  RP Pirineu Occidental   \n",
       "2   1   Gener  2011  RP Pirineu Occidental   \n",
       "\n",
       "              rea_b_sica_policial_abp nombre_de_visites mitjana_temps_espera  \n",
       "0                      ABP Alt Urgell               129             00:05:44  \n",
       "1                        ABP Cerdanya                78             00:11:17  \n",
       "2  ABP Pallars Jussà - Pallars Sobirà               101             00:04:30  "
      ]
     },
     "execution_count": 5,
     "metadata": {},
     "output_type": "execute_result"
    }
   ],
   "source": [
    "results[\"Nil\"].head(3) # rea_b_sica_policial_abp, regi_policial_rp"
   ]
  },
  {
   "cell_type": "code",
   "execution_count": 6,
   "metadata": {},
   "outputs": [
    {
     "data": {
      "text/html": [
       "<div>\n",
       "<style scoped>\n",
       "    .dataframe tbody tr th:only-of-type {\n",
       "        vertical-align: middle;\n",
       "    }\n",
       "\n",
       "    .dataframe tbody tr th {\n",
       "        vertical-align: top;\n",
       "    }\n",
       "\n",
       "    .dataframe thead th {\n",
       "        text-align: right;\n",
       "    }\n",
       "</style>\n",
       "<table border=\"1\" class=\"dataframe\">\n",
       "  <thead>\n",
       "    <tr style=\"text-align: right;\">\n",
       "      <th></th>\n",
       "      <th>any</th>\n",
       "      <th>nom_mes</th>\n",
       "      <th>unnamed_column</th>\n",
       "      <th>data</th>\n",
       "      <th>regi_policial</th>\n",
       "      <th>sexe</th>\n",
       "      <th>edat</th>\n",
       "      <th>nombre</th>\n",
       "    </tr>\n",
       "  </thead>\n",
       "  <tbody>\n",
       "    <tr>\n",
       "      <th>0</th>\n",
       "      <td>2020</td>\n",
       "      <td>Gener</td>\n",
       "      <td>1</td>\n",
       "      <td>2020-01-01T00:00:00.000</td>\n",
       "      <td>RP METROPOLITANA SUD</td>\n",
       "      <td>Dona</td>\n",
       "      <td>15</td>\n",
       "      <td>1</td>\n",
       "    </tr>\n",
       "    <tr>\n",
       "      <th>1</th>\n",
       "      <td>2020</td>\n",
       "      <td>Gener</td>\n",
       "      <td>1</td>\n",
       "      <td>2020-01-01T00:00:00.000</td>\n",
       "      <td>RP METROPOLITANA NORD</td>\n",
       "      <td>Home</td>\n",
       "      <td>69</td>\n",
       "      <td>1</td>\n",
       "    </tr>\n",
       "    <tr>\n",
       "      <th>2</th>\n",
       "      <td>2020</td>\n",
       "      <td>Gener</td>\n",
       "      <td>1</td>\n",
       "      <td>2020-01-01T00:00:00.000</td>\n",
       "      <td>RP CENTRAL</td>\n",
       "      <td>Dona</td>\n",
       "      <td>16</td>\n",
       "      <td>1</td>\n",
       "    </tr>\n",
       "  </tbody>\n",
       "</table>\n",
       "</div>"
      ],
      "text/plain": [
       "    any nom_mes unnamed_column                     data  \\\n",
       "0  2020   Gener              1  2020-01-01T00:00:00.000   \n",
       "1  2020   Gener              1  2020-01-01T00:00:00.000   \n",
       "2  2020   Gener              1  2020-01-01T00:00:00.000   \n",
       "\n",
       "           regi_policial  sexe edat nombre  \n",
       "0   RP METROPOLITANA SUD  Dona   15      1  \n",
       "1  RP METROPOLITANA NORD  Home   69      1  \n",
       "2             RP CENTRAL  Dona   16      1  "
      ]
     },
     "execution_count": 6,
     "metadata": {},
     "output_type": "execute_result"
    }
   ],
   "source": [
    "results[\"Robert\"].head(3) # regi_policial"
   ]
  },
  {
   "cell_type": "code",
   "execution_count": 7,
   "metadata": {},
   "outputs": [
    {
     "data": {
      "text/html": [
       "<div>\n",
       "<style scoped>\n",
       "    .dataframe tbody tr th:only-of-type {\n",
       "        vertical-align: middle;\n",
       "    }\n",
       "\n",
       "    .dataframe tbody tr th {\n",
       "        vertical-align: top;\n",
       "    }\n",
       "\n",
       "    .dataframe thead th {\n",
       "        text-align: right;\n",
       "    }\n",
       "</style>\n",
       "<table border=\"1\" class=\"dataframe\">\n",
       "  <thead>\n",
       "    <tr style=\"text-align: right;\">\n",
       "      <th></th>\n",
       "      <th>any</th>\n",
       "      <th>n_m_mes</th>\n",
       "      <th>nom_mes</th>\n",
       "      <th>regi_policial_rp</th>\n",
       "      <th>rea_b_sica_policial_abp</th>\n",
       "      <th>prov_ncia</th>\n",
       "      <th>comarca</th>\n",
       "      <th>municipi</th>\n",
       "      <th>tipus_de_lloc_dels_fets</th>\n",
       "      <th>tipus_de_fet</th>\n",
       "      <th>tipus_de_fet_codi_penal_o</th>\n",
       "      <th>mbit_procediment_fet</th>\n",
       "      <th>rol_v_ctima_o_autoria</th>\n",
       "      <th>sexe</th>\n",
       "      <th>edat_inici_fets</th>\n",
       "      <th>nombre</th>\n",
       "    </tr>\n",
       "  </thead>\n",
       "  <tbody>\n",
       "    <tr>\n",
       "      <th>0</th>\n",
       "      <td>2020</td>\n",
       "      <td>1</td>\n",
       "      <td>Gener</td>\n",
       "      <td>RP Terres de l'Ebre</td>\n",
       "      <td>ABP Baix Ebre</td>\n",
       "      <td>Tarragona</td>\n",
       "      <td>Baix Ebre</td>\n",
       "      <td>Resta de municipis ABP Baix Ebre</td>\n",
       "      <td>Via pública urbana</td>\n",
       "      <td>Delictes</td>\n",
       "      <td>Amenaces</td>\n",
       "      <td>Ètnic, origen nacional i/o racial</td>\n",
       "      <td>Víctimes</td>\n",
       "      <td>Home</td>\n",
       "      <td>21</td>\n",
       "      <td>1</td>\n",
       "    </tr>\n",
       "    <tr>\n",
       "      <th>1</th>\n",
       "      <td>2020</td>\n",
       "      <td>1</td>\n",
       "      <td>Gener</td>\n",
       "      <td>RP Terres de l'Ebre</td>\n",
       "      <td>ABP Baix Ebre</td>\n",
       "      <td>Tarragona</td>\n",
       "      <td>Baix Ebre</td>\n",
       "      <td>Resta de municipis ABP Baix Ebre</td>\n",
       "      <td>Via pública urbana</td>\n",
       "      <td>Delictes</td>\n",
       "      <td>Amenaces</td>\n",
       "      <td>Ètnic, origen nacional i/o racial</td>\n",
       "      <td>Víctimes</td>\n",
       "      <td>Home</td>\n",
       "      <td>19</td>\n",
       "      <td>1</td>\n",
       "    </tr>\n",
       "    <tr>\n",
       "      <th>2</th>\n",
       "      <td>2020</td>\n",
       "      <td>1</td>\n",
       "      <td>Gener</td>\n",
       "      <td>RP  Metropolitana Nord</td>\n",
       "      <td>ABP Rubí</td>\n",
       "      <td>Barcelona</td>\n",
       "      <td>Vallès Occidental</td>\n",
       "      <td>Sant Cugat del Vallès</td>\n",
       "      <td>Centre de dia/Residència persones grans</td>\n",
       "      <td>Delictes</td>\n",
       "      <td>Contra exercici drets fonamentals i llibertats...</td>\n",
       "      <td>Ètnic, origen nacional i/o racial</td>\n",
       "      <td>Víctimes</td>\n",
       "      <td>Dona</td>\n",
       "      <td>44</td>\n",
       "      <td>1</td>\n",
       "    </tr>\n",
       "  </tbody>\n",
       "</table>\n",
       "</div>"
      ],
      "text/plain": [
       "    any n_m_mes nom_mes        regi_policial_rp rea_b_sica_policial_abp  \\\n",
       "0  2020       1   Gener     RP Terres de l'Ebre           ABP Baix Ebre   \n",
       "1  2020       1   Gener     RP Terres de l'Ebre           ABP Baix Ebre   \n",
       "2  2020       1   Gener  RP  Metropolitana Nord                ABP Rubí   \n",
       "\n",
       "   prov_ncia            comarca                          municipi  \\\n",
       "0  Tarragona          Baix Ebre  Resta de municipis ABP Baix Ebre   \n",
       "1  Tarragona          Baix Ebre  Resta de municipis ABP Baix Ebre   \n",
       "2  Barcelona  Vallès Occidental             Sant Cugat del Vallès   \n",
       "\n",
       "                   tipus_de_lloc_dels_fets tipus_de_fet  \\\n",
       "0                       Via pública urbana     Delictes   \n",
       "1                       Via pública urbana     Delictes   \n",
       "2  Centre de dia/Residència persones grans     Delictes   \n",
       "\n",
       "                           tipus_de_fet_codi_penal_o  \\\n",
       "0                                           Amenaces   \n",
       "1                                           Amenaces   \n",
       "2  Contra exercici drets fonamentals i llibertats...   \n",
       "\n",
       "                mbit_procediment_fet rol_v_ctima_o_autoria  sexe  \\\n",
       "0  Ètnic, origen nacional i/o racial              Víctimes  Home   \n",
       "1  Ètnic, origen nacional i/o racial              Víctimes  Home   \n",
       "2  Ètnic, origen nacional i/o racial              Víctimes  Dona   \n",
       "\n",
       "  edat_inici_fets nombre  \n",
       "0              21      1  \n",
       "1              19      1  \n",
       "2              44      1  "
      ]
     },
     "execution_count": 7,
     "metadata": {},
     "output_type": "execute_result"
    }
   ],
   "source": [
    "results[\"Adrián\"].head(3)"
   ]
  },
  {
   "cell_type": "markdown",
   "metadata": {},
   "source": [
    "### compare whether columns contain same entries"
   ]
  },
  {
   "cell_type": "code",
   "execution_count": 8,
   "metadata": {},
   "outputs": [
    {
     "data": {
      "text/plain": [
       "{'ABP Baix Empordà - Sant Feliu', 'Àrea de Seguretat Aeroportuària'}"
      ]
     },
     "execution_count": 8,
     "metadata": {},
     "output_type": "execute_result"
    }
   ],
   "source": [
    "set(results[\"Nil\"].rea_b_sica_policial_abp) - set(results[\"Martina\"][\"servei_origen_dotaci\"])"
   ]
  },
  {
   "cell_type": "code",
   "execution_count": 9,
   "metadata": {},
   "outputs": [
    {
     "data": {
      "text/plain": [
       "{'ABP Baix Empordà - Sant Feliu de Guíxols',\n",
       " 'Serveis Centrals',\n",
       " 'Serveis Regionals - RP Camp de Tarragona',\n",
       " 'Serveis Regionals - RP Central',\n",
       " 'Serveis Regionals - RP Girona',\n",
       " 'Serveis Regionals - RP Metropolitana Barcelona',\n",
       " 'Serveis Regionals - RP Metropolitana Nord',\n",
       " 'Serveis Regionals - RP Metropolitana Sud',\n",
       " 'Serveis Regionals - RP Pirineu Occidental',\n",
       " 'Serveis Regionals - RP Ponent',\n",
       " \"Serveis Regionals - RP Terres de l'Ebre\"}"
      ]
     },
     "execution_count": 9,
     "metadata": {},
     "output_type": "execute_result"
    }
   ],
   "source": [
    "set(results[\"Martina\"][\"servei_origen_dotaci\"]) -set(results[\"Nil\"].rea_b_sica_policial_abp) "
   ]
  },
  {
   "cell_type": "code",
   "execution_count": 10,
   "metadata": {},
   "outputs": [
    {
     "data": {
      "text/plain": [
       "{'ABP Alt Urgell',\n",
       " 'ABP Pallars Jussà - Pallars Sobirà',\n",
       " \"ABP Terra Alta - Ribera d'Ebre\",\n",
       " 'Àrea de Seguretat Aeroportuària'}"
      ]
     },
     "execution_count": 10,
     "metadata": {},
     "output_type": "execute_result"
    }
   ],
   "source": [
    "set(results[\"Nil\"].rea_b_sica_policial_abp)-set(results[\"Adrián\"].rea_b_sica_policial_abp)"
   ]
  },
  {
   "cell_type": "code",
   "execution_count": 11,
   "metadata": {},
   "outputs": [
    {
     "data": {
      "text/plain": [
       "{'ABP Barcelona',\n",
       " 'ABP Girona',\n",
       " 'ABP Hospitalet de Llobregat',\n",
       " 'ABP Manresa',\n",
       " 'CD Caldes de Montbui',\n",
       " \"Unitat d'informació RPMB\"}"
      ]
     },
     "execution_count": 11,
     "metadata": {},
     "output_type": "execute_result"
    }
   ],
   "source": [
    "set(results[\"Adrián\"].rea_b_sica_policial_abp)-set(results[\"Nil\"].rea_b_sica_policial_abp)"
   ]
  },
  {
   "cell_type": "code",
   "execution_count": 12,
   "metadata": {},
   "outputs": [
    {
     "data": {
      "text/plain": [
       "{'Divisió de Transport'}"
      ]
     },
     "execution_count": 12,
     "metadata": {},
     "output_type": "execute_result"
    }
   ],
   "source": [
    "set(results[\"Nil\"].regi_policial_rp)-set(results[\"Adrián\"].regi_policial_rp)"
   ]
  },
  {
   "cell_type": "code",
   "execution_count": 13,
   "metadata": {},
   "outputs": [
    {
     "data": {
      "text/plain": [
       "set()"
      ]
     },
     "execution_count": 13,
     "metadata": {},
     "output_type": "execute_result"
    }
   ],
   "source": [
    "set(results[\"Adrián\"].regi_policial_rp)-set(results[\"Nil\"].regi_policial_rp)"
   ]
  },
  {
   "cell_type": "code",
   "execution_count": 14,
   "metadata": {},
   "outputs": [
    {
     "data": {
      "text/plain": [
       "{'ABP Alt Camp - C. de Barberà',\n",
       " 'ABP Alt Empordà - Figueres',\n",
       " 'ABP Alt Empordà - Roses',\n",
       " 'ABP Alt Penedès',\n",
       " 'ABP Anoia',\n",
       " 'ABP Arenys de Mar',\n",
       " 'ABP Badalona',\n",
       " 'ABP Bages',\n",
       " 'ABP Baix Camp - Priorat',\n",
       " 'ABP Baix Ebre',\n",
       " 'ABP Baix Empordà - La Bisbal',\n",
       " 'ABP Baix Empordà - Sant Feliu',\n",
       " 'ABP Baix Penedès',\n",
       " 'ABP Barcelona',\n",
       " 'ABP Berguedà',\n",
       " 'ABP Cerdanya',\n",
       " 'ABP Cerdanyola',\n",
       " 'ABP Ciutat Vella',\n",
       " 'ABP Cornellà de Llobregat',\n",
       " 'ABP Eixample',\n",
       " 'ABP Esplugues de Llobregat',\n",
       " 'ABP Garraf',\n",
       " 'ABP Garrotxa',\n",
       " 'ABP Gavà',\n",
       " 'ABP Girona',\n",
       " \"ABP Gironès - Pla de l'Estany\",\n",
       " 'ABP Granollers',\n",
       " 'ABP Gràcia',\n",
       " 'ABP Horta-Guinardó',\n",
       " 'ABP Hospitalet de Llobregat',\n",
       " 'ABP Les Corts',\n",
       " 'ABP Manresa',\n",
       " 'ABP Martorell',\n",
       " 'ABP Mataró',\n",
       " 'ABP Mollet del Vallès',\n",
       " 'ABP Montsià',\n",
       " 'ABP Noguera',\n",
       " 'ABP Nou Barris',\n",
       " 'ABP Osona',\n",
       " 'ABP Premià de Mar',\n",
       " 'ABP Ripollès',\n",
       " 'ABP Rubí',\n",
       " 'ABP Sabadell',\n",
       " 'ABP Sant Andreu',\n",
       " 'ABP Sant Boi de Llobregat',\n",
       " 'ABP Sant Feliu de Llobregat',\n",
       " 'ABP Sant Martí',\n",
       " 'ABP Santa Coloma de Gramenet',\n",
       " 'ABP Sants-Montjuïc',\n",
       " 'ABP Sarrià-Sant Gervasi',\n",
       " 'ABP Segarra - Urgell',\n",
       " \"ABP Segrià - Garrigues - Pla d'Urgell\",\n",
       " 'ABP Selva Interior',\n",
       " 'ABP Selva Litoral',\n",
       " 'ABP Solsonès',\n",
       " 'ABP Tarragonès',\n",
       " 'ABP Terrassa',\n",
       " \"ABP Vall d'Aran - Alta Ribagorça\",\n",
       " 'ABP el Prat de Llobregat',\n",
       " \"ABP l'Hospitalet de Llobregat\",\n",
       " 'CD Caldes de Montbui',\n",
       " \"Unitat d'informació RPMB\"}"
      ]
     },
     "execution_count": 14,
     "metadata": {},
     "output_type": "execute_result"
    }
   ],
   "source": [
    "set(results[\"Adrián\"].rea_b_sica_policial_abp)"
   ]
  }
 ],
 "metadata": {
  "kernelspec": {
   "display_name": "Python 3",
   "language": "python",
   "name": "python3"
  },
  "language_info": {
   "codemirror_mode": {
    "name": "ipython",
    "version": 3
   },
   "file_extension": ".py",
   "mimetype": "text/x-python",
   "name": "python",
   "nbconvert_exporter": "python",
   "pygments_lexer": "ipython3",
   "version": "3.8.10"
  }
 },
 "nbformat": 4,
 "nbformat_minor": 4
}
