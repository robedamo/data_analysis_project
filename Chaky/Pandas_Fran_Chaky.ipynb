{
 "cells": [
  {
   "cell_type": "markdown",
   "id": "77efcdf1",
   "metadata": {},
   "source": [
    "# Pandas in a nutshell\n",
    "\n",
    "Pandas is one of the most essential python library, especially when working with (tablubar) data. Pandas simplifies data curation, manipulation, and visualization of data considerably.\n",
    "\n",
    "You can install the library with command <code>pip install pandas</code>, or just as well with <code>conda install pandas</code> in case you use Anaconda.\n",
    "\n",
    "\n",
    "<u>**References:**</u> \n",
    "- For the full pandas documentation see https://pandas.pydata.org/docs/. \n",
    "- Pandas Getting Started Guide: https://pandas.pydata.org/docs/getting_started/index.html#getting-started.\n",
    "- A *cheat sheet* on data manipulation with pandas: https://pandas.pydata.org/Pandas_Cheat_Sheet.pdf.\n",
    "- For the basic basics of plotting with pandas, see https://www.enthought.com/wp-content/uploads/2019/09/Enthought-Pandas-Cheat-Sheet-1-Plotting-with-Series-and-DataFrames-v1.0.2.pdf.\n",
    "- For more complete info on plotting with pandas see https://pandas.pydata.org/docs/user_guide/visualization.html. \n",
    "\n",
    "<u>**Outline:**</u>\n",
    "1. [Importing the pandas library](#1)\n",
    "2. [Importing data](#2)\n",
    "    1. [loading Excel or csv files](#2.1)\n",
    "    2. [accessing APIs](#2.2)\n",
    "3. [Pandas Series](#3) **[(TASK I)](#task1)**\n",
    "4. [Pandas DataFrames](#4)\n",
    "    1. [Generating and accessing  Pandas DataFrames](#4.1) **[(TASK II)](#task2)**\n",
    "    2. [Operations on DataFrames](#4.2)\n",
    "        1. [Selecting data](#4.2.1)\n",
    "        2. [Slicing data frames](#4.2.2) \n",
    "           1. [Slicing by label with loc](#4.2.2.1)\n",
    "           2. [Slicing by position with iloc](#4.2.2.2)\n",
    "        3. [Filtering](#4.2.3)\n",
    "        4. [Transposing, Sorting, and Grouping](#4.2.4)\n",
    "   **[(TASK III)](#task3)**\n",
    "5. [Final Remarks](#5)"
   ]
  },
  {
   "cell_type": "markdown",
   "id": "41660cbd",
   "metadata": {},
   "source": [
    "## 1. Importing the pandas library <a class=\"anchor\" id=\"1\"></a>\n",
    "Pandas is typically imported into the namespace pd, just as numpy is typically imported as np."
   ]
  },
  {
   "cell_type": "code",
   "execution_count": 2,
   "id": "5b68b6dc",
   "metadata": {},
   "outputs": [],
   "source": [
    "import numpy as np\n",
    "import pandas as pd"
   ]
  },
  {
   "cell_type": "markdown",
   "id": "2814d6b1",
   "metadata": {},
   "source": [
    "## 2. Importing data <a class=\"anchor\" id=\"2\"></a>\n",
    "Data can be imported either by loading files or by accessing an API (Application Programming Interface).\n",
    "\n",
    "### 2. A. loading Excel or csv files <a class=\"anchor\" id=\"2.1\"></a>\n",
    "By read_excel https://pandas.pydata.org/pandas-docs/stable/reference/api/pandas.read_excel.html, read_csv https://pandas.pydata.org/pandas-docs/stable/reference/api/pandas.read_csv.html, tables are loaded from files into pandas data frames.\n",
    "\n",
    "*Example data extracted from:*<br/>\n",
    "[1] Nelson AB, Faraguna U, Zoltan JT, Tononi G, Cirelli C. Sleep patterns and homeostatic mechanisms in adolescent mice. Brain Sci. 2013 Mar 19;3(1):318-43. doi: 10.3390/brainsci3010318. PMID: 23772316; PMCID: PMC3682503."
   ]
  },
  {
   "cell_type": "code",
   "execution_count": 3,
   "id": "7b070c0a",
   "metadata": {},
   "outputs": [
    {
     "data": {
      "text/html": [
       "<div>\n",
       "<style scoped>\n",
       "    .dataframe tbody tr th:only-of-type {\n",
       "        vertical-align: middle;\n",
       "    }\n",
       "\n",
       "    .dataframe tbody tr th {\n",
       "        vertical-align: top;\n",
       "    }\n",
       "\n",
       "    .dataframe thead th {\n",
       "        text-align: right;\n",
       "    }\n",
       "</style>\n",
       "<table border=\"1\" class=\"dataframe\">\n",
       "  <thead>\n",
       "    <tr style=\"text-align: right;\">\n",
       "      <th></th>\n",
       "      <th>p</th>\n",
       "      <th>AIC</th>\n",
       "      <th>R2</th>\n",
       "    </tr>\n",
       "    <tr>\n",
       "      <th>(A) Frontal: Predictors for SWA rebound (5/1); % change SWA (5/1) = B0 + (predictors)</th>\n",
       "      <th></th>\n",
       "      <th></th>\n",
       "      <th></th>\n",
       "    </tr>\n",
       "  </thead>\n",
       "  <tbody>\n",
       "    <tr>\n",
       "      <th>Weight-adjusted age (using Gompertz fit)</th>\n",
       "      <td>0.005070</td>\n",
       "      <td>362</td>\n",
       "      <td>0.18900</td>\n",
       "    </tr>\n",
       "    <tr>\n",
       "      <th>Recovery days from surgery</th>\n",
       "      <td>0.430000</td>\n",
       "      <td>370</td>\n",
       "      <td>0.01640</td>\n",
       "    </tr>\n",
       "    <tr>\n",
       "      <th>REM/NREM amount (12 h of recovery)</th>\n",
       "      <td>0.007100</td>\n",
       "      <td>363</td>\n",
       "      <td>0.17500</td>\n",
       "    </tr>\n",
       "    <tr>\n",
       "      <th>n of sleep attempts during sleep deprivation</th>\n",
       "      <td>0.053000</td>\n",
       "      <td>367</td>\n",
       "      <td>0.09530</td>\n",
       "    </tr>\n",
       "    <tr>\n",
       "      <th>Sleep during sleep deprivation (min/4 h)</th>\n",
       "      <td>0.058200</td>\n",
       "      <td>367</td>\n",
       "      <td>0.09130</td>\n",
       "    </tr>\n",
       "    <tr>\n",
       "      <th>Brief arousals (n/min of sleep, first 4 h of recovery)</th>\n",
       "      <td>0.310000</td>\n",
       "      <td>369</td>\n",
       "      <td>0.02730</td>\n",
       "    </tr>\n",
       "    <tr>\n",
       "      <th>Increase in wake SWA (1–4 Hz) during sleep deprivation</th>\n",
       "      <td>0.760000</td>\n",
       "      <td>370</td>\n",
       "      <td>0.02490</td>\n",
       "    </tr>\n",
       "    <tr>\n",
       "      <th>Slow wave energy (SWE = SWA × time) during deprivation (wake and NREM)</th>\n",
       "      <td>0.840000</td>\n",
       "      <td>371</td>\n",
       "      <td>0.00110</td>\n",
       "    </tr>\n",
       "    <tr>\n",
       "      <th>Time spent awake since last sleep</th>\n",
       "      <td>0.910000</td>\n",
       "      <td>371</td>\n",
       "      <td>0.00033</td>\n",
       "    </tr>\n",
       "    <tr>\n",
       "      <th>NREM SWA decline in baseline (1/2)</th>\n",
       "      <td>0.000154</td>\n",
       "      <td>355</td>\n",
       "      <td>0.31700</td>\n",
       "    </tr>\n",
       "    <tr>\n",
       "      <th>NREM SWA decline in baseline (1/2) +</th>\n",
       "      <td>0.000100</td>\n",
       "      <td>352</td>\n",
       "      <td>0.39500</td>\n",
       "    </tr>\n",
       "    <tr>\n",
       "      <th>Increase in wake alpha (8–12 Hz)</th>\n",
       "      <td>0.035200</td>\n",
       "      <td>352</td>\n",
       "      <td>0.39500</td>\n",
       "    </tr>\n",
       "    <tr>\n",
       "      <th>NREM SWA decline in baseline (1/2) +</th>\n",
       "      <td>0.000900</td>\n",
       "      <td>352</td>\n",
       "      <td>0.40000</td>\n",
       "    </tr>\n",
       "    <tr>\n",
       "      <th>Weight-adjusted age</th>\n",
       "      <td>0.029700</td>\n",
       "      <td>352</td>\n",
       "      <td>0.40000</td>\n",
       "    </tr>\n",
       "    <tr>\n",
       "      <th>NREM SWA decline in baseline (1/2) +</th>\n",
       "      <td>0.000430</td>\n",
       "      <td>352</td>\n",
       "      <td>0.43100</td>\n",
       "    </tr>\n",
       "    <tr>\n",
       "      <th>Increase in wake alpha (8–12 Hz) +</th>\n",
       "      <td>0.172930</td>\n",
       "      <td>352</td>\n",
       "      <td>0.43100</td>\n",
       "    </tr>\n",
       "    <tr>\n",
       "      <th>Weight-adjusted age</th>\n",
       "      <td>0.143480</td>\n",
       "      <td>352</td>\n",
       "      <td>0.43100</td>\n",
       "    </tr>\n",
       "  </tbody>\n",
       "</table>\n",
       "</div>"
      ],
      "text/plain": [
       "                                                          p   AIC        R2\n",
       "(A) Frontal: Predictors for SWA rebound (5/1); ...                         \n",
       "Weight-adjusted age (using Gompertz fit)            0.005070   362  0.18900\n",
       "Recovery days from surgery                          0.430000   370  0.01640\n",
       "REM/NREM amount (12 h of recovery)                  0.007100   363  0.17500\n",
       "n of sleep attempts during sleep deprivation        0.053000   367  0.09530\n",
       "Sleep during sleep deprivation (min/4 h)            0.058200   367  0.09130\n",
       "Brief arousals (n/min of sleep, first 4 h of re...  0.310000   369  0.02730\n",
       "Increase in wake SWA (1–4 Hz) during sleep depr...  0.760000   370  0.02490\n",
       "Slow wave energy (SWE = SWA × time) during depr...  0.840000   371  0.00110\n",
       "Time spent awake since last sleep                   0.910000   371  0.00033\n",
       "NREM SWA decline in baseline (1/2)                  0.000154   355  0.31700\n",
       "NREM SWA decline in baseline (1/2) +                0.000100   352  0.39500\n",
       "Increase in wake alpha (8–12 Hz)                    0.035200   352  0.39500\n",
       "NREM SWA decline in baseline (1/2) +                0.000900   352  0.40000\n",
       "Weight-adjusted age                                 0.029700   352  0.40000\n",
       "NREM SWA decline in baseline (1/2) +                0.000430   352  0.43100\n",
       "Increase in wake alpha (8–12 Hz) +                  0.172930   352  0.43100\n",
       "Weight-adjusted age                                 0.143480   352  0.43100"
      ]
     },
     "execution_count": 3,
     "metadata": {},
     "output_type": "execute_result"
    }
   ],
   "source": [
    "mice_xlsx = pd.read_excel(\"data/Sleep_Patterns_and_Homeostatic_Mechanisms_in_Adolescent_Mice_2013.xlsx\",\n",
    "                         index_col=0,\n",
    "                         header=0)\n",
    "# show loaded table:\n",
    "mice_xlsx"
   ]
  },
  {
   "cell_type": "code",
   "execution_count": 4,
   "id": "96c14462",
   "metadata": {},
   "outputs": [
    {
     "data": {
      "text/html": [
       "<div>\n",
       "<style scoped>\n",
       "    .dataframe tbody tr th:only-of-type {\n",
       "        vertical-align: middle;\n",
       "    }\n",
       "\n",
       "    .dataframe tbody tr th {\n",
       "        vertical-align: top;\n",
       "    }\n",
       "\n",
       "    .dataframe thead th {\n",
       "        text-align: right;\n",
       "    }\n",
       "</style>\n",
       "<table border=\"1\" class=\"dataframe\">\n",
       "  <thead>\n",
       "    <tr style=\"text-align: right;\">\n",
       "      <th></th>\n",
       "      <th>p</th>\n",
       "      <th>AIC</th>\n",
       "      <th>R2</th>\n",
       "    </tr>\n",
       "    <tr>\n",
       "      <th>(A) Frontal: Predictors for SWA rebound (5/1); % change SWA (5/1) = B0 + (predictors)</th>\n",
       "      <th></th>\n",
       "      <th></th>\n",
       "      <th></th>\n",
       "    </tr>\n",
       "  </thead>\n",
       "  <tbody>\n",
       "    <tr>\n",
       "      <th>Weight-adjusted age (using Gompertz fit)</th>\n",
       "      <td>0.005070</td>\n",
       "      <td>362</td>\n",
       "      <td>0.18900</td>\n",
       "    </tr>\n",
       "    <tr>\n",
       "      <th>Recovery days from surgery</th>\n",
       "      <td>0.430000</td>\n",
       "      <td>370</td>\n",
       "      <td>0.01640</td>\n",
       "    </tr>\n",
       "    <tr>\n",
       "      <th>REM/NREM amount (12 h of recovery)</th>\n",
       "      <td>0.007100</td>\n",
       "      <td>363</td>\n",
       "      <td>0.17500</td>\n",
       "    </tr>\n",
       "    <tr>\n",
       "      <th>n of sleep attempts during sleep deprivation</th>\n",
       "      <td>0.053000</td>\n",
       "      <td>367</td>\n",
       "      <td>0.09530</td>\n",
       "    </tr>\n",
       "    <tr>\n",
       "      <th>Sleep during sleep deprivation (min/4 h)</th>\n",
       "      <td>0.058200</td>\n",
       "      <td>367</td>\n",
       "      <td>0.09130</td>\n",
       "    </tr>\n",
       "    <tr>\n",
       "      <th>Brief arousals (n/min of sleep, first 4 h of recovery)</th>\n",
       "      <td>0.310000</td>\n",
       "      <td>369</td>\n",
       "      <td>0.02730</td>\n",
       "    </tr>\n",
       "    <tr>\n",
       "      <th>Increase in wake SWA (1–4 Hz) during sleep deprivation</th>\n",
       "      <td>0.760000</td>\n",
       "      <td>370</td>\n",
       "      <td>0.02490</td>\n",
       "    </tr>\n",
       "    <tr>\n",
       "      <th>Slow wave energy (SWE = SWA × time) during deprivation (wake and NREM)</th>\n",
       "      <td>0.840000</td>\n",
       "      <td>371</td>\n",
       "      <td>0.00110</td>\n",
       "    </tr>\n",
       "    <tr>\n",
       "      <th>Time spent awake since last sleep</th>\n",
       "      <td>0.910000</td>\n",
       "      <td>371</td>\n",
       "      <td>0.00033</td>\n",
       "    </tr>\n",
       "    <tr>\n",
       "      <th>NREM SWA decline in baseline (1/2)</th>\n",
       "      <td>0.000154</td>\n",
       "      <td>355</td>\n",
       "      <td>0.31700</td>\n",
       "    </tr>\n",
       "    <tr>\n",
       "      <th>NREM SWA decline in baseline (1/2) +</th>\n",
       "      <td>0.000100</td>\n",
       "      <td>352</td>\n",
       "      <td>0.39500</td>\n",
       "    </tr>\n",
       "    <tr>\n",
       "      <th>Increase in wake alpha (8–12 Hz)</th>\n",
       "      <td>0.035200</td>\n",
       "      <td>352</td>\n",
       "      <td>0.39500</td>\n",
       "    </tr>\n",
       "    <tr>\n",
       "      <th>NREM SWA decline in baseline (1/2) +</th>\n",
       "      <td>0.000900</td>\n",
       "      <td>352</td>\n",
       "      <td>0.40000</td>\n",
       "    </tr>\n",
       "    <tr>\n",
       "      <th>Weight-adjusted age</th>\n",
       "      <td>0.029700</td>\n",
       "      <td>352</td>\n",
       "      <td>0.40000</td>\n",
       "    </tr>\n",
       "    <tr>\n",
       "      <th>NREM SWA decline in baseline (1/2) +</th>\n",
       "      <td>0.000430</td>\n",
       "      <td>352</td>\n",
       "      <td>0.43100</td>\n",
       "    </tr>\n",
       "    <tr>\n",
       "      <th>Increase in wake alpha (8–12 Hz) +</th>\n",
       "      <td>0.172930</td>\n",
       "      <td>352</td>\n",
       "      <td>0.43100</td>\n",
       "    </tr>\n",
       "    <tr>\n",
       "      <th>Weight-adjusted age</th>\n",
       "      <td>0.143480</td>\n",
       "      <td>352</td>\n",
       "      <td>0.43100</td>\n",
       "    </tr>\n",
       "  </tbody>\n",
       "</table>\n",
       "</div>"
      ],
      "text/plain": [
       "                                                          p   AIC        R2\n",
       "(A) Frontal: Predictors for SWA rebound (5/1); ...                         \n",
       "Weight-adjusted age (using Gompertz fit)            0.005070   362  0.18900\n",
       "Recovery days from surgery                          0.430000   370  0.01640\n",
       "REM/NREM amount (12 h of recovery)                  0.007100   363  0.17500\n",
       "n of sleep attempts during sleep deprivation        0.053000   367  0.09530\n",
       "Sleep during sleep deprivation (min/4 h)            0.058200   367  0.09130\n",
       "Brief arousals (n/min of sleep, first 4 h of re...  0.310000   369  0.02730\n",
       "Increase in wake SWA (1–4 Hz) during sleep depr...  0.760000   370  0.02490\n",
       "Slow wave energy (SWE = SWA × time) during depr...  0.840000   371  0.00110\n",
       "Time spent awake since last sleep                   0.910000   371  0.00033\n",
       "NREM SWA decline in baseline (1/2)                  0.000154   355  0.31700\n",
       "NREM SWA decline in baseline (1/2) +                0.000100   352  0.39500\n",
       "Increase in wake alpha (8–12 Hz)                    0.035200   352  0.39500\n",
       "NREM SWA decline in baseline (1/2) +                0.000900   352  0.40000\n",
       "Weight-adjusted age                                 0.029700   352  0.40000\n",
       "NREM SWA decline in baseline (1/2) +                0.000430   352  0.43100\n",
       "Increase in wake alpha (8–12 Hz) +                  0.172930   352  0.43100\n",
       "Weight-adjusted age                                 0.143480   352  0.43100"
      ]
     },
     "execution_count": 4,
     "metadata": {},
     "output_type": "execute_result"
    }
   ],
   "source": [
    "mice_csv = pd.read_csv(\"data/Sleep_Patterns_and_Homeostatic_Mechanisms_in_Adolescent_Mice_2013.csv\",\n",
    "                         index_col=0,\n",
    "                         header=0)\n",
    "# show loaded table:\n",
    "mice_csv"
   ]
  },
  {
   "cell_type": "markdown",
   "id": "6f8d7a89",
   "metadata": {},
   "source": [
    "### 2. 2. accessing APIs <a class=\"anchor\" id=\"2.2\"></a>\n",
    "\n",
    "You will usually find example code for how to access an API on the web page that publishes the open data. For our example open data provider https://analisi.transparenciacatalunya.cat/, here for the example database https://analisi.transparenciacatalunya.cat/Energia/Consum-d-energia-el-ctrica-per-municipis-i-sectors/8idm-becu, they ask you to first install sodapy, e.g. by <code>pip install sodapy</code> and then jot:"
   ]
  },
  {
   "cell_type": "code",
   "execution_count": 5,
   "id": "cd379ff1",
   "metadata": {},
   "outputs": [
    {
     "ename": "ModuleNotFoundError",
     "evalue": "No module named 'sodapy'",
     "output_type": "error",
     "traceback": [
      "\u001b[0;31m---------------------------------------------------------------------------\u001b[0m",
      "\u001b[0;31mModuleNotFoundError\u001b[0m                       Traceback (most recent call last)",
      "\u001b[0;32m/var/folders/t6/qgf2jdkj243882vkx9f_f2400000gn/T/ipykernel_14117/3001575502.py\u001b[0m in \u001b[0;36m<module>\u001b[0;34m\u001b[0m\n\u001b[0;32m----> 1\u001b[0;31m \u001b[0;32mfrom\u001b[0m \u001b[0msodapy\u001b[0m \u001b[0;32mimport\u001b[0m \u001b[0mSocrata\u001b[0m\u001b[0;34m\u001b[0m\u001b[0;34m\u001b[0m\u001b[0m\n\u001b[0m\u001b[1;32m      2\u001b[0m \u001b[0;34m\u001b[0m\u001b[0m\n\u001b[1;32m      3\u001b[0m \u001b[0;31m# Unauthenticated client only works with public data sets. Note 'None'\u001b[0m\u001b[0;34m\u001b[0m\u001b[0;34m\u001b[0m\u001b[0m\n\u001b[1;32m      4\u001b[0m \u001b[0;31m# in place of application token, and no username or password:\u001b[0m\u001b[0;34m\u001b[0m\u001b[0;34m\u001b[0m\u001b[0m\n\u001b[1;32m      5\u001b[0m \u001b[0mclient\u001b[0m \u001b[0;34m=\u001b[0m \u001b[0mSocrata\u001b[0m\u001b[0;34m(\u001b[0m\u001b[0;34m\"analisi.transparenciacatalunya.cat\"\u001b[0m\u001b[0;34m,\u001b[0m \u001b[0;32mNone\u001b[0m\u001b[0;34m)\u001b[0m\u001b[0;34m\u001b[0m\u001b[0;34m\u001b[0m\u001b[0m\n",
      "\u001b[0;31mModuleNotFoundError\u001b[0m: No module named 'sodapy'"
     ]
    }
   ],
   "source": [
    "from sodapy import Socrata\n",
    "\n",
    "# Unauthenticated client only works with public data sets. Note 'None'\n",
    "# in place of application token, and no username or password:\n",
    "client = Socrata(\"analisi.transparenciacatalunya.cat\", None)\n",
    "\n",
    "# Example authenticated client (needed for non-public datasets):\n",
    "# client = Socrata(analisi.transparenciacatalunya.cat,\n",
    "#                  MyAppToken,\n",
    "#                  username=\"user@example.com\",\n",
    "#                  password=\"AFakePassword\")\n",
    "\n",
    "# First 2000 results, returned as JSON from API / converted to Python list of\n",
    "# dictionaries by sodapy.\n",
    "results = client.get(\"8idm-becu\", limit=2000)\n",
    "\n",
    "# Convert to pandas DataFrame\n",
    "consum_energia_df = pd.DataFrame.from_records(results)\n",
    "\n",
    "# show loaded table:\n",
    "consum_energia_df"
   ]
  },
  {
   "cell_type": "markdown",
   "id": "c21fb656",
   "metadata": {},
   "source": [
    "You see that they limit the downloaded lines to the first 2000 lines, but you can alter these numbers according to your needs. Acctually, if you register in their webpage they give you a TOKEN that allows you to access more lines in a quicker way. \n",
    "\n",
    "Note that on https://analisi.transparenciacatalunya.cat/Energia/Consum-d-energia-el-ctrica-per-municipis-i-sectors/8idm-becu, you also find extensive information on who recoreded the data when or what is the meaning of each column."
   ]
  },
  {
   "cell_type": "markdown",
   "id": "aa5c6504",
   "metadata": {},
   "source": [
    "## 3. Pandas Series <a class=\"anchor\" id=\"3\"></a>\n",
    "Above, we loaded **pandas DataFrames** that represent tables. \n",
    "To begin with pandas, it is helpful to start with \"one-column tables\" that are represented py **pandas Series**. For the full documentation of pandas Series see https://pandas.pydata.org/pandas-docs/stable/reference/api/pandas.Series.html."
   ]
  },
  {
   "cell_type": "code",
   "execution_count": null,
   "id": "13dbe40a",
   "metadata": {
    "scrolled": true
   },
   "outputs": [],
   "source": [
    "# Pandas Series of strings\n",
    "observed_birds = pd.Series([\"Wallcreeper\",\n",
    "                            \"Lammergeier\",\n",
    "                            \"Lammergeier\",\n",
    "                            \"Lammergeier\",\n",
    "                            \"Dupont's Lark\",\n",
    "                            \"Pin-tailed Sandgrouse\",\n",
    "                            \"Lammergeier\",\n",
    "                            \"Wallcreeper\",\n",
    "                            \"Little Bustard\",\n",
    "                            \"Dupont's Lark\",\n",
    "                            \"Wallcreeper\",\n",
    "                            \"Wallcreeper\",\n",
    "                            \"Citril Finch\",\n",
    "                            \"Black Wheatear\",\n",
    "                            \"Snowfinch\"\n",
    "                            ], \n",
    "                           dtype = str, # if you put nothing here, pandas inferres the type itself\n",
    "                           name = \"birds\"\n",
    "                          )\n",
    "\n",
    "# show Pandas series: \n",
    "observed_birds"
   ]
  },
  {
   "cell_type": "code",
   "execution_count": null,
   "id": "4efab141",
   "metadata": {},
   "outputs": [],
   "source": [
    "# the number of appearances of each bird, e.g. in a pie chart\n",
    "observed_birds.value_counts().plot.pie()"
   ]
  },
  {
   "cell_type": "markdown",
   "id": "b40bc975",
   "metadata": {},
   "source": [
    "Pandas Series can contain a variety of python data types, such as strings, integers, time stamps, and of course also floats. As an example, we'll draw N=10000 Gaussian random numbers and plot a histogram for them. Note that by loading pandas, we already loaded matplotlib.pyplot into namespace plt."
   ]
  },
  {
   "cell_type": "code",
   "execution_count": 6,
   "id": "4545ffc5",
   "metadata": {},
   "outputs": [
    {
     "data": {
      "text/plain": [
       "0       0.992322\n",
       "1       3.217567\n",
       "2       0.915957\n",
       "3       1.092144\n",
       "4       1.354723\n",
       "          ...   \n",
       "9995    2.763498\n",
       "9996    2.271507\n",
       "9997    1.057156\n",
       "9998    1.045762\n",
       "9999    2.136086\n",
       "Length: 10000, dtype: float64"
      ]
     },
     "execution_count": 6,
     "metadata": {},
     "output_type": "execute_result"
    },
    {
     "data": {
      "image/png": "[encoded data removed]",
      "text/plain": [
       "<Figure size 432x288 with 1 Axes>"
      ]
     },
     "metadata": {
      "needs_background": "light"
     },
     "output_type": "display_data"
    }
   ],
   "source": [
    "# you can also gererate a Pandas Series of floats...\n",
    "N=10000\n",
    "sigma = 1\n",
    "mu = 2\n",
    "random_numbers_array = np.random.normal(mu, sigma, N) # N gaussian random numbers i  a numpy array\n",
    "random_numbers = pd.Series(random_numbers_array)  # convert to Series\n",
    "# ... and plot the NORMALIZED histogram in one line\n",
    "ax = random_numbers.hist(density=True, \n",
    "                        bins =100)\n",
    "# add the analytic formula of the gaussian \n",
    "x = np.linspace(-1, 5, 200)\n",
    "ax.plot(x, np.exp(-(x-mu)**2/(2*sigma**2))/(np.sqrt(2*np.pi)*sigma))\n",
    "\n",
    "## and back to numpy :\n",
    "# random_numbers.to_numpy()\n",
    "\n",
    "random_numbers"
   ]
  },
  {
   "cell_type": "markdown",
   "id": "67b88d8d",
   "metadata": {},
   "source": [
    "# TASK I: <a class=\"anchor\" id=\"task1\"></a>\n",
    "Label x and y axis, change the color of the bars and the line, and give the plot a title."
   ]
  },
  {
   "cell_type": "code",
   "execution_count": 37,
   "id": "749e7af0",
   "metadata": {},
   "outputs": [
    {
     "data": {
      "text/plain": [
       "Text(0.5, 1.0, 'Dale loco dale')"
      ]
     },
     "execution_count": 37,
     "metadata": {},
     "output_type": "execute_result"
    },
    {
     "data": {
      "image/png": "[encoded data removed]",
      "text/plain": [
       "<Figure size 432x288 with 1 Axes>"
      ]
     },
     "metadata": {
      "needs_background": "light"
     },
     "output_type": "display_data"
    }
   ],
   "source": [
    "# you can also gererate a Pandas Series of floats...\n",
    "N=10000\n",
    "sigma = 1\n",
    "mu = 2\n",
    "random_numbers_array = np.random.normal(mu, sigma, N) # N gaussian random numbers i  a numpy array\n",
    "random_numbers = pd.Series(random_numbers_array)  # convert to Series\n",
    "# ... and plot the NORMALIZED histogram in one line\n",
    "ax = random_numbers.hist(density=True, \n",
    "                        bins =100,color='skyblue')\n",
    "# add the analytic formula of the gaussian \n",
    "x = np.linspace(-1, 5, 100)\n",
    "ax.plot(x,np.exp(-(x-mu)**2/(2*sigma**2))/(np.sqrt(2*np.pi)*sigma),color='red')\n",
    "\n",
    "## and back to numpy :\n",
    "# random_numbers.to_numpy()\n",
    "\n",
    "random_numbers\n",
    "ax.set_xlabel(\"x\")\n",
    "ax.set_ylabel(\"y\")\n",
    "ax.set_title(\"Dale loco dale\")"
   ]
  },
  {
   "cell_type": "markdown",
   "id": "5ec54a07",
   "metadata": {},
   "source": [
    "In the following you see that simple numpy operations can directly be applied on Pandas Series (i.e. on columns of Data Frames). The output is again a pandas Series. \n",
    "\n",
    "Further, you'll see that you can print some basic statistics of pandas Series using pandas function *describe*"
   ]
  },
  {
   "cell_type": "code",
   "execution_count": 8,
   "id": "d6aa090e",
   "metadata": {},
   "outputs": [
    {
     "data": {
      "text/plain": [
       "count    10000.000000\n",
       "mean         2.009734\n",
       "std          0.979238\n",
       "min          0.002213\n",
       "25%          1.319070\n",
       "50%          1.988348\n",
       "75%          2.681331\n",
       "max          6.794547\n",
       "dtype: float64"
      ]
     },
     "execution_count": 8,
     "metadata": {},
     "output_type": "execute_result"
    },
    {
     "data": {
      "image/png": "[encoded data removed]",
      "text/plain": [
       "<Figure size 432x288 with 1 Axes>"
      ]
     },
     "metadata": {
      "needs_background": "light"
     },
     "output_type": "display_data"
    }
   ],
   "source": [
    "# take the absolute value of each item in the Pandas series \n",
    "# and plot a histogram of the result\n",
    "ax = abs(random_numbers).hist(bins=50, density=True)\n",
    "\n",
    "# print some basic statistics of a Pandas series\n",
    "abs(random_numbers).describe()"
   ]
  },
  {
   "cell_type": "markdown",
   "id": "31427bf7",
   "metadata": {},
   "source": [
    "## 4. Pandas DataFrames <a class=\"anchor\" id=\"4\"></a>\n",
    "Now we really come to the Excel Sheets. Of course (!) pandas can do a LOT more than you could do with Excel, but their basic funcionalities are comparable. You find the full documentation here: https://pandas.pydata.org/pandas-docs/stable/reference/frame.html.\n",
    "\n",
    "### 4. A. Generating  and accessing Pandas DataFrames <a class=\"anchor\" id=\"4.1\"></a>\n",
    ".. and some manipulations.\n",
    "\n",
    "At first we see how to generate an empty data frame and fill it column by column. We see what's an index and what's a column. Then, we generate a data frame from a dictionary."
   ]
  },
  {
   "cell_type": "code",
   "execution_count": 9,
   "id": "536e3414",
   "metadata": {},
   "outputs": [
    {
     "data": {
      "text/html": [
       "<div>\n",
       "<style scoped>\n",
       "    .dataframe tbody tr th:only-of-type {\n",
       "        vertical-align: middle;\n",
       "    }\n",
       "\n",
       "    .dataframe tbody tr th {\n",
       "        vertical-align: top;\n",
       "    }\n",
       "\n",
       "    .dataframe thead th {\n",
       "        text-align: right;\n",
       "    }\n",
       "</style>\n",
       "<table border=\"1\" class=\"dataframe\">\n",
       "  <thead>\n",
       "    <tr style=\"text-align: right;\">\n",
       "      <th></th>\n",
       "    </tr>\n",
       "  </thead>\n",
       "  <tbody>\n",
       "  </tbody>\n",
       "</table>\n",
       "</div>"
      ],
      "text/plain": [
       "Empty DataFrame\n",
       "Columns: []\n",
       "Index: []"
      ]
     },
     "execution_count": 9,
     "metadata": {},
     "output_type": "execute_result"
    }
   ],
   "source": [
    "# There are plenty of different ways to create a DataFrame. \n",
    "\n",
    "# An empty DataFrame can be created by\n",
    "df = pd.DataFrame()  \n",
    "df"
   ]
  },
  {
   "cell_type": "code",
   "execution_count": 10,
   "id": "1bf57d9f",
   "metadata": {},
   "outputs": [
    {
     "data": {
      "text/html": [
       "<div>\n",
       "<style scoped>\n",
       "    .dataframe tbody tr th:only-of-type {\n",
       "        vertical-align: middle;\n",
       "    }\n",
       "\n",
       "    .dataframe tbody tr th {\n",
       "        vertical-align: top;\n",
       "    }\n",
       "\n",
       "    .dataframe thead th {\n",
       "        text-align: right;\n",
       "    }\n",
       "</style>\n",
       "<table border=\"1\" class=\"dataframe\">\n",
       "  <thead>\n",
       "    <tr style=\"text-align: right;\">\n",
       "      <th></th>\n",
       "      <th>Country</th>\n",
       "      <th>Capital</th>\n",
       "      <th>Inhabitants Country in Mio</th>\n",
       "    </tr>\n",
       "  </thead>\n",
       "  <tbody>\n",
       "    <tr>\n",
       "      <th>0</th>\n",
       "      <td>UK</td>\n",
       "      <td>London</td>\n",
       "      <td>67.22</td>\n",
       "    </tr>\n",
       "    <tr>\n",
       "      <th>1</th>\n",
       "      <td>France</td>\n",
       "      <td>Paris</td>\n",
       "      <td>67.39</td>\n",
       "    </tr>\n",
       "    <tr>\n",
       "      <th>2</th>\n",
       "      <td>Spain</td>\n",
       "      <td>Madrid</td>\n",
       "      <td>47.35</td>\n",
       "    </tr>\n",
       "  </tbody>\n",
       "</table>\n",
       "</div>"
      ],
      "text/plain": [
       "  Country Capital  Inhabitants Country in Mio\n",
       "0      UK  London                       67.22\n",
       "1  France   Paris                       67.39\n",
       "2   Spain  Madrid                       47.35"
      ]
     },
     "execution_count": 10,
     "metadata": {},
     "output_type": "execute_result"
    }
   ],
   "source": [
    "# This empty DataFrame can be filled columnwise with lists:\n",
    "\n",
    "# e.g.: add new column with name \"Country\" to data frame df\n",
    "df[\"Country\"]  = [\"UK\", \"France\", \"Spain\"]\n",
    "df[\"Capital\"] = [\"London\", \"Paris\", \"Madrid\"]\n",
    "df[\"Inhabitants Country in Mio\"] = [67.22, 67.39, 47.35]\n",
    "df"
   ]
  },
  {
   "cell_type": "code",
   "execution_count": 11,
   "id": "6b061a22",
   "metadata": {},
   "outputs": [
    {
     "data": {
      "text/plain": [
       "0    London\n",
       "1     Paris\n",
       "2    Madrid\n",
       "Name: Capital, dtype: object"
      ]
     },
     "execution_count": 11,
     "metadata": {},
     "output_type": "execute_result"
    }
   ],
   "source": [
    "# it makes sense to give column names without spaces, so you can do:\n",
    "df.Capital  # this returns a pandas Series with name Capital!"
   ]
  },
  {
   "cell_type": "markdown",
   "id": "d206837f",
   "metadata": {},
   "source": [
    "We can also transform the above bird pandas series into a data frame. The Series name turns into the column name."
   ]
  },
  {
   "cell_type": "code",
   "execution_count": 12,
   "id": "35e97d5a",
   "metadata": {},
   "outputs": [
    {
     "data": {
      "text/html": [
       "<div>\n",
       "<style scoped>\n",
       "    .dataframe tbody tr th:only-of-type {\n",
       "        vertical-align: middle;\n",
       "    }\n",
       "\n",
       "    .dataframe tbody tr th {\n",
       "        vertical-align: top;\n",
       "    }\n",
       "\n",
       "    .dataframe thead th {\n",
       "        text-align: right;\n",
       "    }\n",
       "</style>\n",
       "<table border=\"1\" class=\"dataframe\">\n",
       "  <thead>\n",
       "    <tr style=\"text-align: right;\">\n",
       "      <th></th>\n",
       "      <th>birds</th>\n",
       "    </tr>\n",
       "  </thead>\n",
       "  <tbody>\n",
       "    <tr>\n",
       "      <th>0</th>\n",
       "      <td>Wallcreeper</td>\n",
       "    </tr>\n",
       "    <tr>\n",
       "      <th>1</th>\n",
       "      <td>Lammergeier</td>\n",
       "    </tr>\n",
       "    <tr>\n",
       "      <th>2</th>\n",
       "      <td>Lammergeier</td>\n",
       "    </tr>\n",
       "    <tr>\n",
       "      <th>3</th>\n",
       "      <td>Lammergeier</td>\n",
       "    </tr>\n",
       "    <tr>\n",
       "      <th>4</th>\n",
       "      <td>Dupont's Lark</td>\n",
       "    </tr>\n",
       "    <tr>\n",
       "      <th>5</th>\n",
       "      <td>Pin-tailed Sandgrouse</td>\n",
       "    </tr>\n",
       "    <tr>\n",
       "      <th>6</th>\n",
       "      <td>Lammergeier</td>\n",
       "    </tr>\n",
       "    <tr>\n",
       "      <th>7</th>\n",
       "      <td>Wallcreeper</td>\n",
       "    </tr>\n",
       "    <tr>\n",
       "      <th>8</th>\n",
       "      <td>Little Bustard</td>\n",
       "    </tr>\n",
       "    <tr>\n",
       "      <th>9</th>\n",
       "      <td>Dupont's Lark</td>\n",
       "    </tr>\n",
       "    <tr>\n",
       "      <th>10</th>\n",
       "      <td>Wallcreeper</td>\n",
       "    </tr>\n",
       "    <tr>\n",
       "      <th>11</th>\n",
       "      <td>Wallcreeper</td>\n",
       "    </tr>\n",
       "    <tr>\n",
       "      <th>12</th>\n",
       "      <td>Citril Finch</td>\n",
       "    </tr>\n",
       "    <tr>\n",
       "      <th>13</th>\n",
       "      <td>Black Wheatear</td>\n",
       "    </tr>\n",
       "    <tr>\n",
       "      <th>14</th>\n",
       "      <td>Snowfinch</td>\n",
       "    </tr>\n",
       "  </tbody>\n",
       "</table>\n",
       "</div>"
      ],
      "text/plain": [
       "                    birds\n",
       "0             Wallcreeper\n",
       "1             Lammergeier\n",
       "2             Lammergeier\n",
       "3             Lammergeier\n",
       "4           Dupont's Lark\n",
       "5   Pin-tailed Sandgrouse\n",
       "6             Lammergeier\n",
       "7             Wallcreeper\n",
       "8          Little Bustard\n",
       "9           Dupont's Lark\n",
       "10            Wallcreeper\n",
       "11            Wallcreeper\n",
       "12           Citril Finch\n",
       "13         Black Wheatear\n",
       "14              Snowfinch"
      ]
     },
     "execution_count": 12,
     "metadata": {},
     "output_type": "execute_result"
    }
   ],
   "source": [
    "# data frames and pandas series are not the same thing\n",
    "birds_df = pd.DataFrame(observed_birds)\n",
    "# Note the column name\n",
    "birds_df"
   ]
  },
  {
   "cell_type": "code",
   "execution_count": 13,
   "id": "889abf48",
   "metadata": {},
   "outputs": [
    {
     "data": {
      "text/html": [
       "<div>\n",
       "<style scoped>\n",
       "    .dataframe tbody tr th:only-of-type {\n",
       "        vertical-align: middle;\n",
       "    }\n",
       "\n",
       "    .dataframe tbody tr th {\n",
       "        vertical-align: top;\n",
       "    }\n",
       "\n",
       "    .dataframe thead th {\n",
       "        text-align: right;\n",
       "    }\n",
       "</style>\n",
       "<table border=\"1\" class=\"dataframe\">\n",
       "  <thead>\n",
       "    <tr style=\"text-align: right;\">\n",
       "      <th></th>\n",
       "      <th>bird names</th>\n",
       "    </tr>\n",
       "  </thead>\n",
       "  <tbody>\n",
       "    <tr>\n",
       "      <th>0</th>\n",
       "      <td>Wallcreeper</td>\n",
       "    </tr>\n",
       "    <tr>\n",
       "      <th>1</th>\n",
       "      <td>Lammergeier</td>\n",
       "    </tr>\n",
       "    <tr>\n",
       "      <th>2</th>\n",
       "      <td>Lammergeier</td>\n",
       "    </tr>\n",
       "    <tr>\n",
       "      <th>3</th>\n",
       "      <td>Lammergeier</td>\n",
       "    </tr>\n",
       "    <tr>\n",
       "      <th>4</th>\n",
       "      <td>Dupont's Lark</td>\n",
       "    </tr>\n",
       "    <tr>\n",
       "      <th>5</th>\n",
       "      <td>Pin-tailed Sandgrouse</td>\n",
       "    </tr>\n",
       "    <tr>\n",
       "      <th>6</th>\n",
       "      <td>Lammergeier</td>\n",
       "    </tr>\n",
       "    <tr>\n",
       "      <th>7</th>\n",
       "      <td>Wallcreeper</td>\n",
       "    </tr>\n",
       "    <tr>\n",
       "      <th>8</th>\n",
       "      <td>Little Bustard</td>\n",
       "    </tr>\n",
       "    <tr>\n",
       "      <th>9</th>\n",
       "      <td>Dupont's Lark</td>\n",
       "    </tr>\n",
       "    <tr>\n",
       "      <th>10</th>\n",
       "      <td>Wallcreeper</td>\n",
       "    </tr>\n",
       "    <tr>\n",
       "      <th>11</th>\n",
       "      <td>Wallcreeper</td>\n",
       "    </tr>\n",
       "    <tr>\n",
       "      <th>12</th>\n",
       "      <td>Citril Finch</td>\n",
       "    </tr>\n",
       "    <tr>\n",
       "      <th>13</th>\n",
       "      <td>Black Wheatear</td>\n",
       "    </tr>\n",
       "    <tr>\n",
       "      <th>14</th>\n",
       "      <td>Snowfinch</td>\n",
       "    </tr>\n",
       "  </tbody>\n",
       "</table>\n",
       "</div>"
      ],
      "text/plain": [
       "               bird names\n",
       "0             Wallcreeper\n",
       "1             Lammergeier\n",
       "2             Lammergeier\n",
       "3             Lammergeier\n",
       "4           Dupont's Lark\n",
       "5   Pin-tailed Sandgrouse\n",
       "6             Lammergeier\n",
       "7             Wallcreeper\n",
       "8          Little Bustard\n",
       "9           Dupont's Lark\n",
       "10            Wallcreeper\n",
       "11            Wallcreeper\n",
       "12           Citril Finch\n",
       "13         Black Wheatear\n",
       "14              Snowfinch"
      ]
     },
     "execution_count": 13,
     "metadata": {},
     "output_type": "execute_result"
    }
   ],
   "source": [
    "# we can change the column name with function rename():\n",
    "birds_df =birds_df.rename(columns={\"birds\":\"bird names\"}) # the same works with index\n",
    "birds_df"
   ]
  },
  {
   "cell_type": "markdown",
   "id": "59f21c40",
   "metadata": {},
   "source": [
    "Back to the countries dataframe..."
   ]
  },
  {
   "cell_type": "code",
   "execution_count": 14,
   "id": "c8dc7ae9",
   "metadata": {},
   "outputs": [
    {
     "data": {
      "text/plain": [
       "Index(['Country', 'Capital', 'Inhabitants Country in Mio'], dtype='object')"
      ]
     },
     "execution_count": 14,
     "metadata": {},
     "output_type": "execute_result"
    }
   ],
   "source": [
    "# column's names\n",
    "df.columns"
   ]
  },
  {
   "cell_type": "code",
   "execution_count": 15,
   "id": "f78d72aa",
   "metadata": {},
   "outputs": [
    {
     "data": {
      "text/plain": [
       "RangeIndex(start=0, stop=3, step=1)"
      ]
     },
     "execution_count": 15,
     "metadata": {},
     "output_type": "execute_result"
    }
   ],
   "source": [
    "# row indexes names\n",
    "df.index"
   ]
  },
  {
   "cell_type": "code",
   "execution_count": 16,
   "id": "882853eb",
   "metadata": {},
   "outputs": [
    {
     "data": {
      "text/html": [
       "<div>\n",
       "<style scoped>\n",
       "    .dataframe tbody tr th:only-of-type {\n",
       "        vertical-align: middle;\n",
       "    }\n",
       "\n",
       "    .dataframe tbody tr th {\n",
       "        vertical-align: top;\n",
       "    }\n",
       "\n",
       "    .dataframe thead th {\n",
       "        text-align: right;\n",
       "    }\n",
       "</style>\n",
       "<table border=\"1\" class=\"dataframe\">\n",
       "  <thead>\n",
       "    <tr style=\"text-align: right;\">\n",
       "      <th></th>\n",
       "      <th>Country</th>\n",
       "    </tr>\n",
       "  </thead>\n",
       "  <tbody>\n",
       "    <tr>\n",
       "      <th>0</th>\n",
       "      <td>UK</td>\n",
       "    </tr>\n",
       "    <tr>\n",
       "      <th>1</th>\n",
       "      <td>France</td>\n",
       "    </tr>\n",
       "    <tr>\n",
       "      <th>2</th>\n",
       "      <td>Spain</td>\n",
       "    </tr>\n",
       "  </tbody>\n",
       "</table>\n",
       "</div>"
      ],
      "text/plain": [
       "  Country\n",
       "0      UK\n",
       "1  France\n",
       "2   Spain"
      ]
     },
     "execution_count": 16,
     "metadata": {},
     "output_type": "execute_result"
    }
   ],
   "source": [
    "# You can also create a single-column DataFrame from a list (This is not a Pandas Series!)\n",
    "df = pd.DataFrame( [\"UK\", \"France\", \"Spain\"], columns = [\"Country\"])  \n",
    "df"
   ]
  },
  {
   "cell_type": "code",
   "execution_count": 17,
   "id": "48c9d81c",
   "metadata": {},
   "outputs": [
    {
     "data": {
      "text/html": [
       "<div>\n",
       "<style scoped>\n",
       "    .dataframe tbody tr th:only-of-type {\n",
       "        vertical-align: middle;\n",
       "    }\n",
       "\n",
       "    .dataframe tbody tr th {\n",
       "        vertical-align: top;\n",
       "    }\n",
       "\n",
       "    .dataframe thead th {\n",
       "        text-align: right;\n",
       "    }\n",
       "</style>\n",
       "<table border=\"1\" class=\"dataframe\">\n",
       "  <thead>\n",
       "    <tr style=\"text-align: right;\">\n",
       "      <th></th>\n",
       "      <th>Country</th>\n",
       "      <th>Capital</th>\n",
       "      <th>Inhabitants Country in Mio</th>\n",
       "    </tr>\n",
       "  </thead>\n",
       "  <tbody>\n",
       "    <tr>\n",
       "      <th>0</th>\n",
       "      <td>UK</td>\n",
       "      <td>London</td>\n",
       "      <td>67.22</td>\n",
       "    </tr>\n",
       "    <tr>\n",
       "      <th>1</th>\n",
       "      <td>France</td>\n",
       "      <td>Paris</td>\n",
       "      <td>67.39</td>\n",
       "    </tr>\n",
       "    <tr>\n",
       "      <th>2</th>\n",
       "      <td>Spain</td>\n",
       "      <td>Madrid</td>\n",
       "      <td>47.35</td>\n",
       "    </tr>\n",
       "  </tbody>\n",
       "</table>\n",
       "</div>"
      ],
      "text/plain": [
       "  Country Capital  Inhabitants Country in Mio\n",
       "0      UK  London                       67.22\n",
       "1  France   Paris                       67.39\n",
       "2   Spain  Madrid                       47.35"
      ]
     },
     "execution_count": 17,
     "metadata": {},
     "output_type": "execute_result"
    }
   ],
   "source": [
    "# or start from a python dictionary with lists as values (must be of same length).\n",
    "country_dict = { \"Country\" :            [\"UK\",     \"France\", \"Spain\"],\n",
    "                 \"Capital\":            [\"London\", \"Paris\", \"Madrid\"],\n",
    "                 \"Inhabitants Country in Mio\": [67.22, 67.39, 47.35]}\n",
    "# write DataFrame to file, but without the index\n",
    "pd.DataFrame(country_dict).to_csv(\"countries.csv\", index = False)\n",
    "# print inline\n",
    "country_df = pd.DataFrame(country_dict) # in jupyter, we just write the name of the dataFrame into the last line to show it nicely.\n",
    "# in a *.py file (in a script)\n",
    "\n",
    "country_df"
   ]
  },
  {
   "cell_type": "code",
   "execution_count": 18,
   "id": "0168707f",
   "metadata": {},
   "outputs": [
    {
     "data": {
      "text/html": [
       "<div>\n",
       "<style scoped>\n",
       "    .dataframe tbody tr th:only-of-type {\n",
       "        vertical-align: middle;\n",
       "    }\n",
       "\n",
       "    .dataframe tbody tr th {\n",
       "        vertical-align: top;\n",
       "    }\n",
       "\n",
       "    .dataframe thead th {\n",
       "        text-align: right;\n",
       "    }\n",
       "</style>\n",
       "<table border=\"1\" class=\"dataframe\">\n",
       "  <thead>\n",
       "    <tr style=\"text-align: right;\">\n",
       "      <th></th>\n",
       "      <th>fruit</th>\n",
       "      <th>color</th>\n",
       "    </tr>\n",
       "  </thead>\n",
       "  <tbody>\n",
       "    <tr>\n",
       "      <th>0</th>\n",
       "      <td>banana</td>\n",
       "      <td>yellow</td>\n",
       "    </tr>\n",
       "    <tr>\n",
       "      <th>1</th>\n",
       "      <td>apple</td>\n",
       "      <td>green</td>\n",
       "    </tr>\n",
       "    <tr>\n",
       "      <th>2</th>\n",
       "      <td>orange</td>\n",
       "      <td>orange</td>\n",
       "    </tr>\n",
       "    <tr>\n",
       "      <th>3</th>\n",
       "      <td>cherry</td>\n",
       "      <td>red</td>\n",
       "    </tr>\n",
       "    <tr>\n",
       "      <th>4</th>\n",
       "      <td>berry</td>\n",
       "      <td>black</td>\n",
       "    </tr>\n",
       "    <tr>\n",
       "      <th>5</th>\n",
       "      <td>hammer</td>\n",
       "      <td>grey</td>\n",
       "    </tr>\n",
       "  </tbody>\n",
       "</table>\n",
       "</div>"
      ],
      "text/plain": [
       "    fruit   color\n",
       "0  banana  yellow\n",
       "1   apple   green\n",
       "2  orange  orange\n",
       "3  cherry     red\n",
       "4   berry   black\n",
       "5  hammer    grey"
      ]
     },
     "execution_count": 18,
     "metadata": {},
     "output_type": "execute_result"
    }
   ],
   "source": [
    "# If you pass a dictionary with scalars instead of lists, \n",
    "# you have to tell pandas how to interpret that (by adding items())\n",
    "fruit_colors = {\"banana\": \"yellow\",\n",
    "                \"apple\" : \"green\",\n",
    "                \"orange\": \"orange\",\n",
    "                \"cherry\": \"red\",\n",
    "                \"berry\" : \"black\",\n",
    "                \"hammer\": \"grey\"\n",
    "               }\n",
    "fruit_df = pd.DataFrame(fruit_colors.items(), \n",
    "                        columns=[\"fruit\", \"color\"])\n",
    "fruit_df"
   ]
  },
  {
   "cell_type": "code",
   "execution_count": 19,
   "id": "641da291",
   "metadata": {},
   "outputs": [
    {
     "data": {
      "text/html": [
       "<div>\n",
       "<style scoped>\n",
       "    .dataframe tbody tr th:only-of-type {\n",
       "        vertical-align: middle;\n",
       "    }\n",
       "\n",
       "    .dataframe tbody tr th {\n",
       "        vertical-align: top;\n",
       "    }\n",
       "\n",
       "    .dataframe thead th {\n",
       "        text-align: right;\n",
       "    }\n",
       "</style>\n",
       "<table border=\"1\" class=\"dataframe\">\n",
       "  <thead>\n",
       "    <tr style=\"text-align: right;\">\n",
       "      <th></th>\n",
       "      <th>color</th>\n",
       "    </tr>\n",
       "    <tr>\n",
       "      <th>fruit</th>\n",
       "      <th></th>\n",
       "    </tr>\n",
       "  </thead>\n",
       "  <tbody>\n",
       "    <tr>\n",
       "      <th>banana</th>\n",
       "      <td>yellow</td>\n",
       "    </tr>\n",
       "    <tr>\n",
       "      <th>apple</th>\n",
       "      <td>green</td>\n",
       "    </tr>\n",
       "    <tr>\n",
       "      <th>orange</th>\n",
       "      <td>orange</td>\n",
       "    </tr>\n",
       "    <tr>\n",
       "      <th>cherry</th>\n",
       "      <td>red</td>\n",
       "    </tr>\n",
       "    <tr>\n",
       "      <th>berry</th>\n",
       "      <td>black</td>\n",
       "    </tr>\n",
       "    <tr>\n",
       "      <th>hammer</th>\n",
       "      <td>grey</td>\n",
       "    </tr>\n",
       "  </tbody>\n",
       "</table>\n",
       "</div>"
      ],
      "text/plain": [
       "         color\n",
       "fruit         \n",
       "banana  yellow\n",
       "apple    green\n",
       "orange  orange\n",
       "cherry     red\n",
       "berry    black\n",
       "hammer    grey"
      ]
     },
     "execution_count": 19,
     "metadata": {},
     "output_type": "execute_result"
    }
   ],
   "source": [
    "# you might want to have fruit as the index\n",
    "fruit_df = fruit_df.set_index(\"fruit\")\n",
    "fruit_df"
   ]
  },
  {
   "cell_type": "code",
   "execution_count": 20,
   "id": "ae953065",
   "metadata": {},
   "outputs": [
    {
     "data": {
      "text/plain": [
       "'green'"
      ]
     },
     "execution_count": 20,
     "metadata": {},
     "output_type": "execute_result"
    }
   ],
   "source": [
    "# then you can access values by column + index\n",
    "fruit_df.color.apple"
   ]
  },
  {
   "cell_type": "code",
   "execution_count": 21,
   "id": "3c121d2c",
   "metadata": {},
   "outputs": [
    {
     "data": {
      "text/html": [
       "<div>\n",
       "<style scoped>\n",
       "    .dataframe tbody tr th:only-of-type {\n",
       "        vertical-align: middle;\n",
       "    }\n",
       "\n",
       "    .dataframe tbody tr th {\n",
       "        vertical-align: top;\n",
       "    }\n",
       "\n",
       "    .dataframe thead th {\n",
       "        text-align: right;\n",
       "    }\n",
       "</style>\n",
       "<table border=\"1\" class=\"dataframe\">\n",
       "  <thead>\n",
       "    <tr style=\"text-align: right;\">\n",
       "      <th></th>\n",
       "      <th>color</th>\n",
       "    </tr>\n",
       "    <tr>\n",
       "      <th>fruit</th>\n",
       "      <th></th>\n",
       "    </tr>\n",
       "  </thead>\n",
       "  <tbody>\n",
       "    <tr>\n",
       "      <th>banana</th>\n",
       "      <td>yellow</td>\n",
       "    </tr>\n",
       "    <tr>\n",
       "      <th>apple</th>\n",
       "      <td>green</td>\n",
       "    </tr>\n",
       "    <tr>\n",
       "      <th>orange</th>\n",
       "      <td>orange</td>\n",
       "    </tr>\n",
       "    <tr>\n",
       "      <th>cherry</th>\n",
       "      <td>red</td>\n",
       "    </tr>\n",
       "    <tr>\n",
       "      <th>berry</th>\n",
       "      <td>black</td>\n",
       "    </tr>\n",
       "  </tbody>\n",
       "</table>\n",
       "</div>"
      ],
      "text/plain": [
       "         color\n",
       "fruit         \n",
       "banana  yellow\n",
       "apple    green\n",
       "orange  orange\n",
       "cherry     red\n",
       "berry    black"
      ]
     },
     "execution_count": 21,
     "metadata": {},
     "output_type": "execute_result"
    }
   ],
   "source": [
    "# hammer is not a fruit, so we just drop it from the data frame\n",
    "fruit_df = fruit_df.drop(\"hammer\")\n",
    "fruit_df"
   ]
  },
  {
   "cell_type": "code",
   "execution_count": 22,
   "id": "932c9216",
   "metadata": {},
   "outputs": [
    {
     "data": {
      "text/html": [
       "<div>\n",
       "<style scoped>\n",
       "    .dataframe tbody tr th:only-of-type {\n",
       "        vertical-align: middle;\n",
       "    }\n",
       "\n",
       "    .dataframe tbody tr th {\n",
       "        vertical-align: top;\n",
       "    }\n",
       "\n",
       "    .dataframe thead th {\n",
       "        text-align: right;\n",
       "    }\n",
       "</style>\n",
       "<table border=\"1\" class=\"dataframe\">\n",
       "  <thead>\n",
       "    <tr style=\"text-align: right;\">\n",
       "      <th></th>\n",
       "      <th>fruit</th>\n",
       "      <th>color</th>\n",
       "    </tr>\n",
       "  </thead>\n",
       "  <tbody>\n",
       "    <tr>\n",
       "      <th>0</th>\n",
       "      <td>banana</td>\n",
       "      <td>yellow</td>\n",
       "    </tr>\n",
       "    <tr>\n",
       "      <th>1</th>\n",
       "      <td>apple</td>\n",
       "      <td>green</td>\n",
       "    </tr>\n",
       "    <tr>\n",
       "      <th>2</th>\n",
       "      <td>orange</td>\n",
       "      <td>orange</td>\n",
       "    </tr>\n",
       "    <tr>\n",
       "      <th>3</th>\n",
       "      <td>cherry</td>\n",
       "      <td>red</td>\n",
       "    </tr>\n",
       "    <tr>\n",
       "      <th>4</th>\n",
       "      <td>berry</td>\n",
       "      <td>black</td>\n",
       "    </tr>\n",
       "  </tbody>\n",
       "</table>\n",
       "</div>"
      ],
      "text/plain": [
       "    fruit   color\n",
       "0  banana  yellow\n",
       "1   apple   green\n",
       "2  orange  orange\n",
       "3  cherry     red\n",
       "4   berry   black"
      ]
     },
     "execution_count": 22,
     "metadata": {},
     "output_type": "execute_result"
    }
   ],
   "source": [
    "# or you might regret setting \"fruits\" as index\n",
    "fruit_df = fruit_df.reset_index()\n",
    "fruit_df"
   ]
  },
  {
   "cell_type": "markdown",
   "id": "38ac3ace",
   "metadata": {},
   "source": [
    "The pandas function append() can be used to add a new row to a Data frame. You will see that it generates a warning, because in future versions of pandas it will no longer be supported, i.e. it is deprecated. Below you'll see how to use concat instead. "
   ]
  },
  {
   "cell_type": "code",
   "execution_count": 23,
   "id": "40a62cee",
   "metadata": {},
   "outputs": [
    {
     "name": "stderr",
     "output_type": "stream",
     "text": [
      "<ipython-input-23-a1085db2a5dc>:3: FutureWarning: The frame.append method is deprecated and will be removed from pandas in a future version. Use pandas.concat instead.\n",
      "  fruit_df.append({\"fruit\":\"plum\", \"color\":\"lila\"}, ignore_index=True)\n"
     ]
    },
    {
     "data": {
      "text/html": [
       "<div>\n",
       "<style scoped>\n",
       "    .dataframe tbody tr th:only-of-type {\n",
       "        vertical-align: middle;\n",
       "    }\n",
       "\n",
       "    .dataframe tbody tr th {\n",
       "        vertical-align: top;\n",
       "    }\n",
       "\n",
       "    .dataframe thead th {\n",
       "        text-align: right;\n",
       "    }\n",
       "</style>\n",
       "<table border=\"1\" class=\"dataframe\">\n",
       "  <thead>\n",
       "    <tr style=\"text-align: right;\">\n",
       "      <th></th>\n",
       "      <th>fruit</th>\n",
       "      <th>color</th>\n",
       "    </tr>\n",
       "  </thead>\n",
       "  <tbody>\n",
       "    <tr>\n",
       "      <th>0</th>\n",
       "      <td>banana</td>\n",
       "      <td>yellow</td>\n",
       "    </tr>\n",
       "    <tr>\n",
       "      <th>1</th>\n",
       "      <td>apple</td>\n",
       "      <td>green</td>\n",
       "    </tr>\n",
       "    <tr>\n",
       "      <th>2</th>\n",
       "      <td>orange</td>\n",
       "      <td>orange</td>\n",
       "    </tr>\n",
       "    <tr>\n",
       "      <th>3</th>\n",
       "      <td>cherry</td>\n",
       "      <td>red</td>\n",
       "    </tr>\n",
       "    <tr>\n",
       "      <th>4</th>\n",
       "      <td>berry</td>\n",
       "      <td>black</td>\n",
       "    </tr>\n",
       "    <tr>\n",
       "      <th>5</th>\n",
       "      <td>plum</td>\n",
       "      <td>lila</td>\n",
       "    </tr>\n",
       "  </tbody>\n",
       "</table>\n",
       "</div>"
      ],
      "text/plain": [
       "    fruit   color\n",
       "0  banana  yellow\n",
       "1   apple   green\n",
       "2  orange  orange\n",
       "3  cherry     red\n",
       "4   berry   black\n",
       "5    plum    lila"
      ]
     },
     "execution_count": 23,
     "metadata": {},
     "output_type": "execute_result"
    }
   ],
   "source": [
    "#fruit_df = fruit_df.append({\"fruit\":\"plum\", \"color\":\"lila\"}, ignore_index=True)\n",
    "#fruit_df\n",
    "fruit_df.append({\"fruit\":\"plum\", \"color\":\"lila\"}, ignore_index=True)"
   ]
  },
  {
   "cell_type": "code",
   "execution_count": 24,
   "id": "cdc74c5f",
   "metadata": {},
   "outputs": [
    {
     "data": {
      "text/html": [
       "<div>\n",
       "<style scoped>\n",
       "    .dataframe tbody tr th:only-of-type {\n",
       "        vertical-align: middle;\n",
       "    }\n",
       "\n",
       "    .dataframe tbody tr th {\n",
       "        vertical-align: top;\n",
       "    }\n",
       "\n",
       "    .dataframe thead th {\n",
       "        text-align: right;\n",
       "    }\n",
       "</style>\n",
       "<table border=\"1\" class=\"dataframe\">\n",
       "  <thead>\n",
       "    <tr style=\"text-align: right;\">\n",
       "      <th></th>\n",
       "      <th>fruit</th>\n",
       "      <th>color</th>\n",
       "    </tr>\n",
       "  </thead>\n",
       "  <tbody>\n",
       "    <tr>\n",
       "      <th>0</th>\n",
       "      <td>banana</td>\n",
       "      <td>yellow</td>\n",
       "    </tr>\n",
       "    <tr>\n",
       "      <th>1</th>\n",
       "      <td>apple</td>\n",
       "      <td>green</td>\n",
       "    </tr>\n",
       "    <tr>\n",
       "      <th>2</th>\n",
       "      <td>orange</td>\n",
       "      <td>orange</td>\n",
       "    </tr>\n",
       "    <tr>\n",
       "      <th>3</th>\n",
       "      <td>cherry</td>\n",
       "      <td>red</td>\n",
       "    </tr>\n",
       "    <tr>\n",
       "      <th>4</th>\n",
       "      <td>berry</td>\n",
       "      <td>black</td>\n",
       "    </tr>\n",
       "    <tr>\n",
       "      <th>5</th>\n",
       "      <td>plum</td>\n",
       "      <td>lila</td>\n",
       "    </tr>\n",
       "  </tbody>\n",
       "</table>\n",
       "</div>"
      ],
      "text/plain": [
       "    fruit   color\n",
       "0  banana  yellow\n",
       "1   apple   green\n",
       "2  orange  orange\n",
       "3  cherry     red\n",
       "4   berry   black\n",
       "5    plum    lila"
      ]
     },
     "execution_count": 24,
     "metadata": {},
     "output_type": "execute_result"
    }
   ],
   "source": [
    "pd.concat([fruit_df,\n",
    "           pd.DataFrame({\"plum\":\"lila\"}.items(), \n",
    "                        columns=[\"fruit\", \"color\"])\n",
    "          ], \n",
    "          ignore_index=True)"
   ]
  },
  {
   "cell_type": "code",
   "execution_count": 25,
   "id": "54423d3a",
   "metadata": {},
   "outputs": [
    {
     "data": {
      "text/html": [
       "<div>\n",
       "<style scoped>\n",
       "    .dataframe tbody tr th:only-of-type {\n",
       "        vertical-align: middle;\n",
       "    }\n",
       "\n",
       "    .dataframe tbody tr th {\n",
       "        vertical-align: top;\n",
       "    }\n",
       "\n",
       "    .dataframe thead th {\n",
       "        text-align: right;\n",
       "    }\n",
       "</style>\n",
       "<table border=\"1\" class=\"dataframe\">\n",
       "  <thead>\n",
       "    <tr style=\"text-align: right;\">\n",
       "      <th></th>\n",
       "      <th>fruit</th>\n",
       "    </tr>\n",
       "  </thead>\n",
       "  <tbody>\n",
       "    <tr>\n",
       "      <th>0</th>\n",
       "      <td>banana</td>\n",
       "    </tr>\n",
       "    <tr>\n",
       "      <th>1</th>\n",
       "      <td>apple</td>\n",
       "    </tr>\n",
       "    <tr>\n",
       "      <th>2</th>\n",
       "      <td>orange</td>\n",
       "    </tr>\n",
       "    <tr>\n",
       "      <th>3</th>\n",
       "      <td>cherry</td>\n",
       "    </tr>\n",
       "    <tr>\n",
       "      <th>4</th>\n",
       "      <td>berry</td>\n",
       "    </tr>\n",
       "  </tbody>\n",
       "</table>\n",
       "</div>"
      ],
      "text/plain": [
       "    fruit\n",
       "0  banana\n",
       "1   apple\n",
       "2  orange\n",
       "3  cherry\n",
       "4   berry"
      ]
     },
     "execution_count": 25,
     "metadata": {},
     "output_type": "execute_result"
    }
   ],
   "source": [
    "# remove column \"color\" with function pop\n",
    "fruit_df.pop(\"color\")\n",
    "fruit_df"
   ]
  },
  {
   "cell_type": "markdown",
   "id": "88145732",
   "metadata": {},
   "source": [
    "NOTE that the usage of <code>pop()</code> (for removing columns) is different from that of <code>drop()</code> (for deleting rows):\n",
    "\n",
    "    fruit_df = fruit_df.drop(\"hammer\")\n",
    "    fruit_df  \n",
    "vs\n",
    "    \n",
    "    fruit_df.pop(\"color\")\n",
    "    fruit_df\n",
    "    \n",
    "For more on <code>pop()</code> see https://www.geeksforgeeks.org/python-pandas-dataframe-pop/"
   ]
  },
  {
   "cell_type": "code",
   "execution_count": 62,
   "id": "95e5c60b",
   "metadata": {},
   "outputs": [
    {
     "data": {
      "text/html": [
       "<div>\n",
       "<style scoped>\n",
       "    .dataframe tbody tr th:only-of-type {\n",
       "        vertical-align: middle;\n",
       "    }\n",
       "\n",
       "    .dataframe tbody tr th {\n",
       "        vertical-align: top;\n",
       "    }\n",
       "\n",
       "    .dataframe thead th {\n",
       "        text-align: right;\n",
       "    }\n",
       "</style>\n",
       "<table border=\"1\" class=\"dataframe\">\n",
       "  <thead>\n",
       "    <tr style=\"text-align: right;\">\n",
       "      <th></th>\n",
       "      <th>Country</th>\n",
       "      <th>Capital</th>\n",
       "      <th>Inhabitants Country in Mio</th>\n",
       "    </tr>\n",
       "  </thead>\n",
       "  <tbody>\n",
       "    <tr>\n",
       "      <th>0</th>\n",
       "      <td>UK</td>\n",
       "      <td>London</td>\n",
       "      <td>67.22</td>\n",
       "    </tr>\n",
       "    <tr>\n",
       "      <th>1</th>\n",
       "      <td>France</td>\n",
       "      <td>Paris</td>\n",
       "      <td>67.39</td>\n",
       "    </tr>\n",
       "    <tr>\n",
       "      <th>2</th>\n",
       "      <td>Spain</td>\n",
       "      <td>Madrid</td>\n",
       "      <td>47.35</td>\n",
       "    </tr>\n",
       "  </tbody>\n",
       "</table>\n",
       "</div>"
      ],
      "text/plain": [
       "  Country Capital  Inhabitants Country in Mio\n",
       "0      UK  London                       67.22\n",
       "1  France   Paris                       67.39\n",
       "2   Spain  Madrid                       47.35"
      ]
     },
     "execution_count": 62,
     "metadata": {},
     "output_type": "execute_result"
    }
   ],
   "source": [
    "# And finally, and quite common, you can load excel sheets, csv files ( ..json, pickle, parquet..)\n",
    "# use help(pd.read_csv(\"countries.csv\") ) to know more\n",
    "country_df = pd.read_csv(\"countries.csv\") \n",
    "# equivalent: pd.read_excel(\"countries.xlsx\")\n",
    "country_df"
   ]
  },
  {
   "cell_type": "markdown",
   "id": "ab1b97af",
   "metadata": {},
   "source": [
    "# TASK II: <a class=\"anchor\" id=\"task2\"></a>\n",
    "\n",
    "Add another country with its capital and number of inhabitants to the table. "
   ]
  },
  {
   "cell_type": "code",
   "execution_count": 68,
   "id": "80c51c1f",
   "metadata": {},
   "outputs": [
    {
     "data": {
      "text/html": [
       "<div>\n",
       "<style scoped>\n",
       "    .dataframe tbody tr th:only-of-type {\n",
       "        vertical-align: middle;\n",
       "    }\n",
       "\n",
       "    .dataframe tbody tr th {\n",
       "        vertical-align: top;\n",
       "    }\n",
       "\n",
       "    .dataframe thead th {\n",
       "        text-align: right;\n",
       "    }\n",
       "</style>\n",
       "<table border=\"1\" class=\"dataframe\">\n",
       "  <thead>\n",
       "    <tr style=\"text-align: right;\">\n",
       "      <th></th>\n",
       "      <th>Country</th>\n",
       "      <th>Capital</th>\n",
       "      <th>Inhabitants Country in Mio</th>\n",
       "    </tr>\n",
       "  </thead>\n",
       "  <tbody>\n",
       "    <tr>\n",
       "      <th>0</th>\n",
       "      <td>UK</td>\n",
       "      <td>London</td>\n",
       "      <td>67.22</td>\n",
       "    </tr>\n",
       "    <tr>\n",
       "      <th>1</th>\n",
       "      <td>France</td>\n",
       "      <td>Paris</td>\n",
       "      <td>67.39</td>\n",
       "    </tr>\n",
       "    <tr>\n",
       "      <th>2</th>\n",
       "      <td>Spain</td>\n",
       "      <td>Madrid</td>\n",
       "      <td>47.35</td>\n",
       "    </tr>\n",
       "    <tr>\n",
       "      <th>3</th>\n",
       "      <td>Argentina</td>\n",
       "      <td>Buenos Aires</td>\n",
       "      <td>45.81</td>\n",
       "    </tr>\n",
       "  </tbody>\n",
       "</table>\n",
       "</div>"
      ],
      "text/plain": [
       "     Country       Capital  Inhabitants Country in Mio\n",
       "0         UK        London                       67.22\n",
       "1     France         Paris                       67.39\n",
       "2      Spain        Madrid                       47.35\n",
       "3  Argentina  Buenos Aires                       45.81"
      ]
     },
     "execution_count": 68,
     "metadata": {},
     "output_type": "execute_result"
    }
   ],
   "source": [
    "#country_df = country_df.append({\"Country\":\"Argentina\", \"Capital\":\"Buenos Aires\",\"Inhabitants Country in Mio\":45.81},\n",
    " #                              ignore_index=True)\n",
    "\n",
    "df = pd.DataFrame()\n",
    "df[\"Country\"] = [\"Argentina\"]\n",
    "df[\"Capital\"] = [\"Buenos Aires\"]\n",
    "df[\"Inhabitants Country in Mio\"] = [45.81]\n",
    "\n",
    "Juanito =pd.concat([country_df,\n",
    "          df],\n",
    "         ignore_index=True)\n",
    "Juanito"
   ]
  },
  {
   "cell_type": "markdown",
   "id": "3bb0990d",
   "metadata": {},
   "source": [
    "### 4. B. Operations on DataFrames <a class=\"anchor\" id=\"4.2\"></a>\n",
    "\n",
    "#### 4. B. a. Selecting data <a class=\"anchor\" id=\"4.2.1\"></a>"
   ]
  },
  {
   "cell_type": "code",
   "execution_count": 27,
   "id": "24a0df83",
   "metadata": {},
   "outputs": [
    {
     "data": {
      "text/html": [
       "<div>\n",
       "<style scoped>\n",
       "    .dataframe tbody tr th:only-of-type {\n",
       "        vertical-align: middle;\n",
       "    }\n",
       "\n",
       "    .dataframe tbody tr th {\n",
       "        vertical-align: top;\n",
       "    }\n",
       "\n",
       "    .dataframe thead th {\n",
       "        text-align: right;\n",
       "    }\n",
       "</style>\n",
       "<table border=\"1\" class=\"dataframe\">\n",
       "  <thead>\n",
       "    <tr style=\"text-align: right;\">\n",
       "      <th></th>\n",
       "      <th>Country</th>\n",
       "      <th>Capital</th>\n",
       "      <th>Inhabitants Country in Mio</th>\n",
       "    </tr>\n",
       "  </thead>\n",
       "  <tbody>\n",
       "    <tr>\n",
       "      <th>0</th>\n",
       "      <td>UK</td>\n",
       "      <td>London</td>\n",
       "      <td>67.22</td>\n",
       "    </tr>\n",
       "    <tr>\n",
       "      <th>1</th>\n",
       "      <td>France</td>\n",
       "      <td>Paris</td>\n",
       "      <td>67.39</td>\n",
       "    </tr>\n",
       "    <tr>\n",
       "      <th>2</th>\n",
       "      <td>Spain</td>\n",
       "      <td>Madrid</td>\n",
       "      <td>47.35</td>\n",
       "    </tr>\n",
       "  </tbody>\n",
       "</table>\n",
       "</div>"
      ],
      "text/plain": [
       "  Country Capital  Inhabitants Country in Mio\n",
       "0      UK  London                       67.22\n",
       "1  France   Paris                       67.39\n",
       "2   Spain  Madrid                       47.35"
      ]
     },
     "execution_count": 27,
     "metadata": {},
     "output_type": "execute_result"
    }
   ],
   "source": [
    "# we start from \n",
    "country_df"
   ]
  },
  {
   "cell_type": "markdown",
   "id": "26d1a5a0",
   "metadata": {},
   "source": [
    "You already know how to access columns and rows: "
   ]
  },
  {
   "cell_type": "code",
   "execution_count": 28,
   "id": "dd910ef0",
   "metadata": {},
   "outputs": [
    {
     "data": {
      "text/plain": [
       "0    London\n",
       "1     Paris\n",
       "2    Madrid\n",
       "Name: Capital, dtype: object"
      ]
     },
     "execution_count": 28,
     "metadata": {},
     "output_type": "execute_result"
    }
   ],
   "source": [
    "country_df[\"Capital\"] # returns a Series"
   ]
  },
  {
   "cell_type": "code",
   "execution_count": 29,
   "id": "ebb9d84e",
   "metadata": {},
   "outputs": [
    {
     "data": {
      "text/plain": [
       "0    London\n",
       "1     Paris\n",
       "2    Madrid\n",
       "Name: Capital, dtype: object"
      ]
     },
     "execution_count": 29,
     "metadata": {},
     "output_type": "execute_result"
    }
   ],
   "source": [
    "country_df.Capital # same thing; therefore: try to avoid using spaces in your column names"
   ]
  },
  {
   "cell_type": "markdown",
   "id": "5fa175a9",
   "metadata": {},
   "source": [
    "You can overwrite a column with a list:"
   ]
  },
  {
   "cell_type": "code",
   "execution_count": 30,
   "id": "452b1b4e",
   "metadata": {},
   "outputs": [
    {
     "data": {
      "text/html": [
       "<div>\n",
       "<style scoped>\n",
       "    .dataframe tbody tr th:only-of-type {\n",
       "        vertical-align: middle;\n",
       "    }\n",
       "\n",
       "    .dataframe tbody tr th {\n",
       "        vertical-align: top;\n",
       "    }\n",
       "\n",
       "    .dataframe thead th {\n",
       "        text-align: right;\n",
       "    }\n",
       "</style>\n",
       "<table border=\"1\" class=\"dataframe\">\n",
       "  <thead>\n",
       "    <tr style=\"text-align: right;\">\n",
       "      <th></th>\n",
       "      <th>Country</th>\n",
       "      <th>Capital</th>\n",
       "      <th>Inhabitants Country in Mio</th>\n",
       "    </tr>\n",
       "  </thead>\n",
       "  <tbody>\n",
       "    <tr>\n",
       "      <th>0</th>\n",
       "      <td>UK</td>\n",
       "      <td>LON</td>\n",
       "      <td>67.22</td>\n",
       "    </tr>\n",
       "    <tr>\n",
       "      <th>1</th>\n",
       "      <td>France</td>\n",
       "      <td>PAR</td>\n",
       "      <td>67.39</td>\n",
       "    </tr>\n",
       "    <tr>\n",
       "      <th>2</th>\n",
       "      <td>Spain</td>\n",
       "      <td>MAD</td>\n",
       "      <td>47.35</td>\n",
       "    </tr>\n",
       "  </tbody>\n",
       "</table>\n",
       "</div>"
      ],
      "text/plain": [
       "  Country Capital  Inhabitants Country in Mio\n",
       "0      UK     LON                       67.22\n",
       "1  France     PAR                       67.39\n",
       "2   Spain     MAD                       47.35"
      ]
     },
     "execution_count": 30,
     "metadata": {},
     "output_type": "execute_result"
    }
   ],
   "source": [
    "country_df.Capital = [\"LON\", \"PAR\", \"MAD\"] # you can replace complete columns like this\n",
    "country_df"
   ]
  },
  {
   "cell_type": "markdown",
   "id": "befaf402",
   "metadata": {},
   "source": [
    "And you can output a subdataframe, consisting of several columns with their entries."
   ]
  },
  {
   "cell_type": "code",
   "execution_count": 31,
   "id": "3b9abf27",
   "metadata": {},
   "outputs": [
    {
     "data": {
      "text/html": [
       "<div>\n",
       "<style scoped>\n",
       "    .dataframe tbody tr th:only-of-type {\n",
       "        vertical-align: middle;\n",
       "    }\n",
       "\n",
       "    .dataframe tbody tr th {\n",
       "        vertical-align: top;\n",
       "    }\n",
       "\n",
       "    .dataframe thead th {\n",
       "        text-align: right;\n",
       "    }\n",
       "</style>\n",
       "<table border=\"1\" class=\"dataframe\">\n",
       "  <thead>\n",
       "    <tr style=\"text-align: right;\">\n",
       "      <th></th>\n",
       "      <th>Country</th>\n",
       "      <th>Capital</th>\n",
       "    </tr>\n",
       "  </thead>\n",
       "  <tbody>\n",
       "    <tr>\n",
       "      <th>0</th>\n",
       "      <td>UK</td>\n",
       "      <td>LON</td>\n",
       "    </tr>\n",
       "    <tr>\n",
       "      <th>1</th>\n",
       "      <td>France</td>\n",
       "      <td>PAR</td>\n",
       "    </tr>\n",
       "    <tr>\n",
       "      <th>2</th>\n",
       "      <td>Spain</td>\n",
       "      <td>MAD</td>\n",
       "    </tr>\n",
       "  </tbody>\n",
       "</table>\n",
       "</div>"
      ],
      "text/plain": [
       "  Country Capital\n",
       "0      UK     LON\n",
       "1  France     PAR\n",
       "2   Spain     MAD"
      ]
     },
     "execution_count": 31,
     "metadata": {},
     "output_type": "execute_result"
    }
   ],
   "source": [
    "country_df[[\"Country\",\"Capital\"]] # returns a DataFrame, note the flipped order of columns"
   ]
  },
  {
   "cell_type": "markdown",
   "id": "e53213a2",
   "metadata": {},
   "source": [
    "#### 4. B. b. Slicing data frames <a class=\"anchor\" id=\"4.2.2\"></a>\n",
    "Slicing means to output one or several columns or rows. \n",
    "Slices can be either accessed by label with loc or by index with iloc."
   ]
  },
  {
   "cell_type": "code",
   "execution_count": 32,
   "id": "99daa31c",
   "metadata": {},
   "outputs": [
    {
     "data": {
      "text/html": [
       "<div>\n",
       "<style scoped>\n",
       "    .dataframe tbody tr th:only-of-type {\n",
       "        vertical-align: middle;\n",
       "    }\n",
       "\n",
       "    .dataframe tbody tr th {\n",
       "        vertical-align: top;\n",
       "    }\n",
       "\n",
       "    .dataframe thead th {\n",
       "        text-align: right;\n",
       "    }\n",
       "</style>\n",
       "<table border=\"1\" class=\"dataframe\">\n",
       "  <thead>\n",
       "    <tr style=\"text-align: right;\">\n",
       "      <th></th>\n",
       "      <th>Country</th>\n",
       "      <th>Capital</th>\n",
       "      <th>Inhabitants Country in Mio</th>\n",
       "    </tr>\n",
       "  </thead>\n",
       "  <tbody>\n",
       "    <tr>\n",
       "      <th>0</th>\n",
       "      <td>UK</td>\n",
       "      <td>LON</td>\n",
       "      <td>67.22</td>\n",
       "    </tr>\n",
       "    <tr>\n",
       "      <th>1</th>\n",
       "      <td>France</td>\n",
       "      <td>PAR</td>\n",
       "      <td>67.39</td>\n",
       "    </tr>\n",
       "    <tr>\n",
       "      <th>2</th>\n",
       "      <td>Spain</td>\n",
       "      <td>MAD</td>\n",
       "      <td>47.35</td>\n",
       "    </tr>\n",
       "  </tbody>\n",
       "</table>\n",
       "</div>"
      ],
      "text/plain": [
       "  Country Capital  Inhabitants Country in Mio\n",
       "0      UK     LON                       67.22\n",
       "1  France     PAR                       67.39\n",
       "2   Spain     MAD                       47.35"
      ]
     },
     "execution_count": 32,
     "metadata": {},
     "output_type": "execute_result"
    }
   ],
   "source": [
    "# original data frame at this point, before slicing: \n",
    "country_df"
   ]
  },
  {
   "cell_type": "markdown",
   "id": "c9974d5f",
   "metadata": {},
   "source": [
    "#### 4. B. b. i. Slicing by label with **loc** <a class=\"anchor\" id=\"4.2.2.1\"></a>\n",
    "To change individual fields of the dataframe you need to use loc (by label) or iloc (by position).\n",
    "With indexing, your output is the value of the field."
   ]
  },
  {
   "cell_type": "code",
   "execution_count": 33,
   "id": "422e96d3",
   "metadata": {},
   "outputs": [
    {
     "data": {
      "text/plain": [
       "'MAD'"
      ]
     },
     "execution_count": 33,
     "metadata": {},
     "output_type": "execute_result"
    }
   ],
   "source": [
    "# syntax: df.loc[row_indexer,column_indexer]\n",
    "country_df.loc[2, \"Capital\"] # the output is the column value of the row with index 2 and column Capital "
   ]
  },
  {
   "cell_type": "markdown",
   "id": "d51351f1",
   "metadata": {},
   "source": [
    "Note that in the above example, 2 means the label and not the position of the respective row!"
   ]
  },
  {
   "cell_type": "code",
   "execution_count": 34,
   "id": "466a15bc",
   "metadata": {},
   "outputs": [
    {
     "data": {
      "text/plain": [
       "Country                       Spain\n",
       "Capital                         MAD\n",
       "Inhabitants Country in Mio    47.35\n",
       "Name: 2, dtype: object"
      ]
     },
     "execution_count": 34,
     "metadata": {},
     "output_type": "execute_result"
    }
   ],
   "source": [
    "country_df.loc[2] # the output is the row with index 2 as pandas series"
   ]
  },
  {
   "cell_type": "code",
   "execution_count": 35,
   "id": "43737683",
   "metadata": {},
   "outputs": [
    {
     "data": {
      "text/plain": [
       "0    LON\n",
       "1    PAR\n",
       "2    MAD\n",
       "Name: Capital, dtype: object"
      ]
     },
     "execution_count": 35,
     "metadata": {},
     "output_type": "execute_result"
    }
   ],
   "source": [
    "country_df.loc[:, \"Capital\"] # the output is the column Capital as pandas series"
   ]
  },
  {
   "cell_type": "code",
   "execution_count": 36,
   "id": "0893942f",
   "metadata": {},
   "outputs": [
    {
     "data": {
      "text/html": [
       "<div>\n",
       "<style scoped>\n",
       "    .dataframe tbody tr th:only-of-type {\n",
       "        vertical-align: middle;\n",
       "    }\n",
       "\n",
       "    .dataframe tbody tr th {\n",
       "        vertical-align: top;\n",
       "    }\n",
       "\n",
       "    .dataframe thead th {\n",
       "        text-align: right;\n",
       "    }\n",
       "</style>\n",
       "<table border=\"1\" class=\"dataframe\">\n",
       "  <thead>\n",
       "    <tr style=\"text-align: right;\">\n",
       "      <th></th>\n",
       "      <th>Country</th>\n",
       "      <th>Capital</th>\n",
       "      <th>Inhabitants Country in Mio</th>\n",
       "    </tr>\n",
       "  </thead>\n",
       "  <tbody>\n",
       "    <tr>\n",
       "      <th>0</th>\n",
       "      <td>UK</td>\n",
       "      <td>LON</td>\n",
       "      <td>67.22</td>\n",
       "    </tr>\n",
       "    <tr>\n",
       "      <th>1</th>\n",
       "      <td>France</td>\n",
       "      <td>PAR</td>\n",
       "      <td>67.39</td>\n",
       "    </tr>\n",
       "    <tr>\n",
       "      <th>2</th>\n",
       "      <td>Spain</td>\n",
       "      <td>MAD</td>\n",
       "      <td>47.35</td>\n",
       "    </tr>\n",
       "  </tbody>\n",
       "</table>\n",
       "</div>"
      ],
      "text/plain": [
       "  Country Capital  Inhabitants Country in Mio\n",
       "0      UK     LON                       67.22\n",
       "1  France     PAR                       67.39\n",
       "2   Spain     MAD                       47.35"
      ]
     },
     "execution_count": 36,
     "metadata": {},
     "output_type": "execute_result"
    }
   ],
   "source": [
    "country_df"
   ]
  },
  {
   "cell_type": "markdown",
   "id": "ecdade37",
   "metadata": {},
   "source": [
    "#### 4. B. b. ii.  Slicing by position with **iloc** <a class=\"anchor\" id=\"4.2.2.2\"></a>"
   ]
  },
  {
   "cell_type": "code",
   "execution_count": 37,
   "id": "beee0fad",
   "metadata": {},
   "outputs": [
    {
     "data": {
      "text/plain": [
       "67.39"
      ]
     },
     "execution_count": 37,
     "metadata": {},
     "output_type": "execute_result"
    }
   ],
   "source": [
    "country_df.iloc[1, 2] # the output is the column value of the row with position 1 \n",
    "                      # (note that python always counts from 0) and column with position 2"
   ]
  },
  {
   "cell_type": "code",
   "execution_count": 38,
   "id": "e977b549",
   "metadata": {},
   "outputs": [
    {
     "data": {
      "text/plain": [
       "Country                       France\n",
       "Capital                          PAR\n",
       "Inhabitants Country in Mio     67.39\n",
       "Name: 1, dtype: object"
      ]
     },
     "execution_count": 38,
     "metadata": {},
     "output_type": "execute_result"
    }
   ],
   "source": [
    "country_df.iloc[1, 0: 3] # "
   ]
  },
  {
   "cell_type": "markdown",
   "id": "01b84ec6",
   "metadata": {},
   "source": [
    "### 4. B. c. Filtering <a class=\"anchor\" id=\"4.2.3\"></a>\n",
    "\n",
    "Pandas Data frames (and series) can be filtered by using **boolean expressions**."
   ]
  },
  {
   "cell_type": "code",
   "execution_count": 39,
   "id": "4dafafb7",
   "metadata": {},
   "outputs": [
    {
     "data": {
      "text/html": [
       "<div>\n",
       "<style scoped>\n",
       "    .dataframe tbody tr th:only-of-type {\n",
       "        vertical-align: middle;\n",
       "    }\n",
       "\n",
       "    .dataframe tbody tr th {\n",
       "        vertical-align: top;\n",
       "    }\n",
       "\n",
       "    .dataframe thead th {\n",
       "        text-align: right;\n",
       "    }\n",
       "</style>\n",
       "<table border=\"1\" class=\"dataframe\">\n",
       "  <thead>\n",
       "    <tr style=\"text-align: right;\">\n",
       "      <th></th>\n",
       "      <th>Country</th>\n",
       "      <th>Capital</th>\n",
       "      <th>Inhabitants Country in Mio</th>\n",
       "    </tr>\n",
       "  </thead>\n",
       "  <tbody>\n",
       "    <tr>\n",
       "      <th>1</th>\n",
       "      <td>France</td>\n",
       "      <td>PAR</td>\n",
       "      <td>67.39</td>\n",
       "    </tr>\n",
       "  </tbody>\n",
       "</table>\n",
       "</div>"
      ],
      "text/plain": [
       "  Country Capital  Inhabitants Country in Mio\n",
       "1  France     PAR                       67.39"
      ]
     },
     "execution_count": 39,
     "metadata": {},
     "output_type": "execute_result"
    }
   ],
   "source": [
    "country_df[country_df[\"Country\"]==\"France\"] # use Boolean expressions for picking a row/ several rows"
   ]
  },
  {
   "cell_type": "code",
   "execution_count": 40,
   "id": "f70fb56b",
   "metadata": {},
   "outputs": [
    {
     "data": {
      "text/html": [
       "<div>\n",
       "<style scoped>\n",
       "    .dataframe tbody tr th:only-of-type {\n",
       "        vertical-align: middle;\n",
       "    }\n",
       "\n",
       "    .dataframe tbody tr th {\n",
       "        vertical-align: top;\n",
       "    }\n",
       "\n",
       "    .dataframe thead th {\n",
       "        text-align: right;\n",
       "    }\n",
       "</style>\n",
       "<table border=\"1\" class=\"dataframe\">\n",
       "  <thead>\n",
       "    <tr style=\"text-align: right;\">\n",
       "      <th></th>\n",
       "      <th>Country</th>\n",
       "      <th>Capital</th>\n",
       "      <th>Inhabitants Country in Mio</th>\n",
       "    </tr>\n",
       "  </thead>\n",
       "  <tbody>\n",
       "    <tr>\n",
       "      <th>0</th>\n",
       "      <td>UK</td>\n",
       "      <td>LON</td>\n",
       "      <td>67.22</td>\n",
       "    </tr>\n",
       "    <tr>\n",
       "      <th>1</th>\n",
       "      <td>France</td>\n",
       "      <td>PAR</td>\n",
       "      <td>67.39</td>\n",
       "    </tr>\n",
       "  </tbody>\n",
       "</table>\n",
       "</div>"
      ],
      "text/plain": [
       "  Country Capital  Inhabitants Country in Mio\n",
       "0      UK     LON                       67.22\n",
       "1  France     PAR                       67.39"
      ]
     },
     "execution_count": 40,
     "metadata": {},
     "output_type": "execute_result"
    }
   ],
   "source": [
    "country_df[country_df[\"Inhabitants Country in Mio\"] > 50] # Another boolean expression"
   ]
  },
  {
   "cell_type": "code",
   "execution_count": 41,
   "id": "af2deb74",
   "metadata": {},
   "outputs": [
    {
     "data": {
      "text/plain": [
       "2    MAD\n",
       "Name: Capital, dtype: object"
      ]
     },
     "execution_count": 41,
     "metadata": {},
     "output_type": "execute_result"
    }
   ],
   "source": [
    "country_df[country_df[\"Country\"]==\"Spain\"].Capital"
   ]
  },
  {
   "cell_type": "markdown",
   "id": "e5167285",
   "metadata": {},
   "source": [
    "### 4. B. d. Transposing, Sorting, and Grouping <a class=\"anchor\" id=\"4.2.4\"></a>\n",
    "\n",
    "You might have noticed that it's so easy and quick to work with columns and rather cumbersome and slow to work with rows. You can switch roles by transposing the table."
   ]
  },
  {
   "cell_type": "code",
   "execution_count": 69,
   "id": "aa6aac63",
   "metadata": {},
   "outputs": [
    {
     "data": {
      "text/html": [
       "<div>\n",
       "<style scoped>\n",
       "    .dataframe tbody tr th:only-of-type {\n",
       "        vertical-align: middle;\n",
       "    }\n",
       "\n",
       "    .dataframe tbody tr th {\n",
       "        vertical-align: top;\n",
       "    }\n",
       "\n",
       "    .dataframe thead th {\n",
       "        text-align: right;\n",
       "    }\n",
       "</style>\n",
       "<table border=\"1\" class=\"dataframe\">\n",
       "  <thead>\n",
       "    <tr style=\"text-align: right;\">\n",
       "      <th></th>\n",
       "      <th>0</th>\n",
       "      <th>1</th>\n",
       "      <th>2</th>\n",
       "    </tr>\n",
       "  </thead>\n",
       "  <tbody>\n",
       "    <tr>\n",
       "      <th>Country</th>\n",
       "      <td>UK</td>\n",
       "      <td>France</td>\n",
       "      <td>Spain</td>\n",
       "    </tr>\n",
       "    <tr>\n",
       "      <th>Capital</th>\n",
       "      <td>London</td>\n",
       "      <td>Paris</td>\n",
       "      <td>Madrid</td>\n",
       "    </tr>\n",
       "    <tr>\n",
       "      <th>Inhabitants Country in Mio</th>\n",
       "      <td>67.22</td>\n",
       "      <td>67.39</td>\n",
       "      <td>47.35</td>\n",
       "    </tr>\n",
       "  </tbody>\n",
       "</table>\n",
       "</div>"
      ],
      "text/plain": [
       "                                 0       1       2\n",
       "Country                         UK  France   Spain\n",
       "Capital                     London   Paris  Madrid\n",
       "Inhabitants Country in Mio   67.22   67.39   47.35"
      ]
     },
     "execution_count": 69,
     "metadata": {},
     "output_type": "execute_result"
    }
   ],
   "source": [
    "country_df.T"
   ]
  },
  {
   "cell_type": "markdown",
   "id": "a0c164a1",
   "metadata": {},
   "source": [
    "You can sort an index alphabetically..."
   ]
  },
  {
   "cell_type": "code",
   "execution_count": 70,
   "id": "ac6ead7c",
   "metadata": {},
   "outputs": [
    {
     "data": {
      "text/html": [
       "<div>\n",
       "<style scoped>\n",
       "    .dataframe tbody tr th:only-of-type {\n",
       "        vertical-align: middle;\n",
       "    }\n",
       "\n",
       "    .dataframe tbody tr th {\n",
       "        vertical-align: top;\n",
       "    }\n",
       "\n",
       "    .dataframe thead th {\n",
       "        text-align: right;\n",
       "    }\n",
       "</style>\n",
       "<table border=\"1\" class=\"dataframe\">\n",
       "  <thead>\n",
       "    <tr style=\"text-align: right;\">\n",
       "      <th></th>\n",
       "      <th>0</th>\n",
       "      <th>1</th>\n",
       "      <th>2</th>\n",
       "    </tr>\n",
       "  </thead>\n",
       "  <tbody>\n",
       "    <tr>\n",
       "      <th>Capital</th>\n",
       "      <td>London</td>\n",
       "      <td>Paris</td>\n",
       "      <td>Madrid</td>\n",
       "    </tr>\n",
       "    <tr>\n",
       "      <th>Country</th>\n",
       "      <td>UK</td>\n",
       "      <td>France</td>\n",
       "      <td>Spain</td>\n",
       "    </tr>\n",
       "    <tr>\n",
       "      <th>Inhabitants Country in Mio</th>\n",
       "      <td>67.22</td>\n",
       "      <td>67.39</td>\n",
       "      <td>47.35</td>\n",
       "    </tr>\n",
       "  </tbody>\n",
       "</table>\n",
       "</div>"
      ],
      "text/plain": [
       "                                 0       1       2\n",
       "Capital                     London   Paris  Madrid\n",
       "Country                         UK  France   Spain\n",
       "Inhabitants Country in Mio   67.22   67.39   47.35"
      ]
     },
     "execution_count": 70,
     "metadata": {},
     "output_type": "execute_result"
    }
   ],
   "source": [
    "country_df.T.sort_index(axis=0, ascending=True) # try also: ascending = False <==> Descending"
   ]
  },
  {
   "cell_type": "markdown",
   "id": "cb14f90d",
   "metadata": {},
   "source": [
    "... or sort rows by the values of a column, eg. countries by their number of inhabitants:"
   ]
  },
  {
   "cell_type": "code",
   "execution_count": 71,
   "id": "b074c31e",
   "metadata": {},
   "outputs": [
    {
     "data": {
      "text/html": [
       "<div>\n",
       "<style scoped>\n",
       "    .dataframe tbody tr th:only-of-type {\n",
       "        vertical-align: middle;\n",
       "    }\n",
       "\n",
       "    .dataframe tbody tr th {\n",
       "        vertical-align: top;\n",
       "    }\n",
       "\n",
       "    .dataframe thead th {\n",
       "        text-align: right;\n",
       "    }\n",
       "</style>\n",
       "<table border=\"1\" class=\"dataframe\">\n",
       "  <thead>\n",
       "    <tr style=\"text-align: right;\">\n",
       "      <th></th>\n",
       "      <th>Country</th>\n",
       "      <th>Capital</th>\n",
       "      <th>Inhabitants Country in Mio</th>\n",
       "    </tr>\n",
       "  </thead>\n",
       "  <tbody>\n",
       "    <tr>\n",
       "      <th>2</th>\n",
       "      <td>Spain</td>\n",
       "      <td>Madrid</td>\n",
       "      <td>47.35</td>\n",
       "    </tr>\n",
       "    <tr>\n",
       "      <th>0</th>\n",
       "      <td>UK</td>\n",
       "      <td>London</td>\n",
       "      <td>67.22</td>\n",
       "    </tr>\n",
       "    <tr>\n",
       "      <th>1</th>\n",
       "      <td>France</td>\n",
       "      <td>Paris</td>\n",
       "      <td>67.39</td>\n",
       "    </tr>\n",
       "  </tbody>\n",
       "</table>\n",
       "</div>"
      ],
      "text/plain": [
       "  Country Capital  Inhabitants Country in Mio\n",
       "2   Spain  Madrid                       47.35\n",
       "0      UK  London                       67.22\n",
       "1  France   Paris                       67.39"
      ]
     },
     "execution_count": 71,
     "metadata": {},
     "output_type": "execute_result"
    }
   ],
   "source": [
    "country_df.sort_values(by=\"Inhabitants Country in Mio\", ascending=True)"
   ]
  },
  {
   "cell_type": "markdown",
   "id": "b6c2450a",
   "metadata": {},
   "source": [
    "To show how to **group**, we first extend the countries data frame:"
   ]
  },
  {
   "cell_type": "code",
   "execution_count": 72,
   "id": "5fca5fd5",
   "metadata": {},
   "outputs": [
    {
     "data": {
      "text/html": [
       "<div>\n",
       "<style scoped>\n",
       "    .dataframe tbody tr th:only-of-type {\n",
       "        vertical-align: middle;\n",
       "    }\n",
       "\n",
       "    .dataframe tbody tr th {\n",
       "        vertical-align: top;\n",
       "    }\n",
       "\n",
       "    .dataframe thead th {\n",
       "        text-align: right;\n",
       "    }\n",
       "</style>\n",
       "<table border=\"1\" class=\"dataframe\">\n",
       "  <thead>\n",
       "    <tr style=\"text-align: right;\">\n",
       "      <th></th>\n",
       "      <th>Country</th>\n",
       "      <th>Capital</th>\n",
       "      <th>Inhabitants Country in Mio</th>\n",
       "    </tr>\n",
       "  </thead>\n",
       "  <tbody>\n",
       "    <tr>\n",
       "      <th>0</th>\n",
       "      <td>UK</td>\n",
       "      <td>London</td>\n",
       "      <td>67.22</td>\n",
       "    </tr>\n",
       "    <tr>\n",
       "      <th>1</th>\n",
       "      <td>France</td>\n",
       "      <td>Paris</td>\n",
       "      <td>67.39</td>\n",
       "    </tr>\n",
       "    <tr>\n",
       "      <th>2</th>\n",
       "      <td>Spain</td>\n",
       "      <td>Madrid</td>\n",
       "      <td>47.35</td>\n",
       "    </tr>\n",
       "    <tr>\n",
       "      <th>3</th>\n",
       "      <td>China</td>\n",
       "      <td>PEK</td>\n",
       "      <td>1439.32</td>\n",
       "    </tr>\n",
       "    <tr>\n",
       "      <th>4</th>\n",
       "      <td>Mali</td>\n",
       "      <td>BKO</td>\n",
       "      <td>20.25</td>\n",
       "    </tr>\n",
       "    <tr>\n",
       "      <th>5</th>\n",
       "      <td>Nauru</td>\n",
       "      <td>INU</td>\n",
       "      <td>0.01</td>\n",
       "    </tr>\n",
       "  </tbody>\n",
       "</table>\n",
       "</div>"
      ],
      "text/plain": [
       "  Country Capital  Inhabitants Country in Mio\n",
       "0      UK  London                       67.22\n",
       "1  France   Paris                       67.39\n",
       "2   Spain  Madrid                       47.35\n",
       "3   China     PEK                     1439.32\n",
       "4    Mali     BKO                       20.25\n",
       "5   Nauru     INU                        0.01"
      ]
     },
     "execution_count": 72,
     "metadata": {},
     "output_type": "execute_result"
    }
   ],
   "source": [
    "# first we add more countries\n",
    "more_countries_df = pd.DataFrame({\"Country\" :            [\"China\",     \"Mali\", \"Nauru\"],\n",
    "                                  \"Capital\":            [\"PEK\", \"BKO\", \"INU\"],\n",
    "                                  \"Inhabitants Country in Mio\": [1439.32, 20.25, 0.01]}, \n",
    "                        columns=[\"Country\", \"Capital\", \"Inhabitants Country in Mio\"])\n",
    "\n",
    "country_df = pd.concat([country_df,\n",
    "           more_countries_df\n",
    "           ], \n",
    "          ignore_index=True)\n",
    "\n",
    "country_df"
   ]
  },
  {
   "cell_type": "code",
   "execution_count": 73,
   "id": "a242946f",
   "metadata": {},
   "outputs": [
    {
     "data": {
      "text/html": [
       "<div>\n",
       "<style scoped>\n",
       "    .dataframe tbody tr th:only-of-type {\n",
       "        vertical-align: middle;\n",
       "    }\n",
       "\n",
       "    .dataframe tbody tr th {\n",
       "        vertical-align: top;\n",
       "    }\n",
       "\n",
       "    .dataframe thead th {\n",
       "        text-align: right;\n",
       "    }\n",
       "</style>\n",
       "<table border=\"1\" class=\"dataframe\">\n",
       "  <thead>\n",
       "    <tr style=\"text-align: right;\">\n",
       "      <th></th>\n",
       "      <th>Country</th>\n",
       "      <th>Capital</th>\n",
       "      <th>Inhabitants Country in Mio</th>\n",
       "      <th>Continent</th>\n",
       "    </tr>\n",
       "  </thead>\n",
       "  <tbody>\n",
       "    <tr>\n",
       "      <th>0</th>\n",
       "      <td>UK</td>\n",
       "      <td>London</td>\n",
       "      <td>67.22</td>\n",
       "      <td>Europe</td>\n",
       "    </tr>\n",
       "    <tr>\n",
       "      <th>1</th>\n",
       "      <td>France</td>\n",
       "      <td>Paris</td>\n",
       "      <td>67.39</td>\n",
       "      <td>Europe</td>\n",
       "    </tr>\n",
       "    <tr>\n",
       "      <th>2</th>\n",
       "      <td>Spain</td>\n",
       "      <td>Madrid</td>\n",
       "      <td>47.35</td>\n",
       "      <td>Europe</td>\n",
       "    </tr>\n",
       "    <tr>\n",
       "      <th>3</th>\n",
       "      <td>China</td>\n",
       "      <td>PEK</td>\n",
       "      <td>1439.32</td>\n",
       "      <td>Asia</td>\n",
       "    </tr>\n",
       "    <tr>\n",
       "      <th>4</th>\n",
       "      <td>Mali</td>\n",
       "      <td>BKO</td>\n",
       "      <td>20.25</td>\n",
       "      <td>Africa</td>\n",
       "    </tr>\n",
       "    <tr>\n",
       "      <th>5</th>\n",
       "      <td>Nauru</td>\n",
       "      <td>INU</td>\n",
       "      <td>0.01</td>\n",
       "      <td>Oceania</td>\n",
       "    </tr>\n",
       "  </tbody>\n",
       "</table>\n",
       "</div>"
      ],
      "text/plain": [
       "  Country Capital  Inhabitants Country in Mio Continent\n",
       "0      UK  London                       67.22    Europe\n",
       "1  France   Paris                       67.39    Europe\n",
       "2   Spain  Madrid                       47.35    Europe\n",
       "3   China     PEK                     1439.32      Asia\n",
       "4    Mali     BKO                       20.25    Africa\n",
       "5   Nauru     INU                        0.01   Oceania"
      ]
     },
     "execution_count": 73,
     "metadata": {},
     "output_type": "execute_result"
    }
   ],
   "source": [
    "# you might have to add the country you added above, as well.\n",
    "country_df[\"Continent\"] = [\"Europe\", \"Europe\", \"Europe\", \"Asia\", \"Africa\", \"Oceania\"] \n",
    "country_df"
   ]
  },
  {
   "cell_type": "code",
   "execution_count": 74,
   "id": "5ca8594f",
   "metadata": {},
   "outputs": [
    {
     "data": {
      "text/html": [
       "<div>\n",
       "<style scoped>\n",
       "    .dataframe tbody tr th:only-of-type {\n",
       "        vertical-align: middle;\n",
       "    }\n",
       "\n",
       "    .dataframe tbody tr th {\n",
       "        vertical-align: top;\n",
       "    }\n",
       "\n",
       "    .dataframe thead th {\n",
       "        text-align: right;\n",
       "    }\n",
       "</style>\n",
       "<table border=\"1\" class=\"dataframe\">\n",
       "  <thead>\n",
       "    <tr style=\"text-align: right;\">\n",
       "      <th></th>\n",
       "      <th>Country</th>\n",
       "      <th>Capital</th>\n",
       "      <th>Inhabitants Country in Mio</th>\n",
       "      <th>Continent</th>\n",
       "    </tr>\n",
       "  </thead>\n",
       "  <tbody>\n",
       "    <tr>\n",
       "      <th>5</th>\n",
       "      <td>Nauru</td>\n",
       "      <td>INU</td>\n",
       "      <td>0.01</td>\n",
       "      <td>Oceania</td>\n",
       "    </tr>\n",
       "    <tr>\n",
       "      <th>4</th>\n",
       "      <td>Mali</td>\n",
       "      <td>BKO</td>\n",
       "      <td>20.25</td>\n",
       "      <td>Africa</td>\n",
       "    </tr>\n",
       "    <tr>\n",
       "      <th>2</th>\n",
       "      <td>Spain</td>\n",
       "      <td>Madrid</td>\n",
       "      <td>47.35</td>\n",
       "      <td>Europe</td>\n",
       "    </tr>\n",
       "    <tr>\n",
       "      <th>0</th>\n",
       "      <td>UK</td>\n",
       "      <td>London</td>\n",
       "      <td>67.22</td>\n",
       "      <td>Europe</td>\n",
       "    </tr>\n",
       "    <tr>\n",
       "      <th>1</th>\n",
       "      <td>France</td>\n",
       "      <td>Paris</td>\n",
       "      <td>67.39</td>\n",
       "      <td>Europe</td>\n",
       "    </tr>\n",
       "    <tr>\n",
       "      <th>3</th>\n",
       "      <td>China</td>\n",
       "      <td>PEK</td>\n",
       "      <td>1439.32</td>\n",
       "      <td>Asia</td>\n",
       "    </tr>\n",
       "  </tbody>\n",
       "</table>\n",
       "</div>"
      ],
      "text/plain": [
       "  Country Capital  Inhabitants Country in Mio Continent\n",
       "5   Nauru     INU                        0.01   Oceania\n",
       "4    Mali     BKO                       20.25    Africa\n",
       "2   Spain  Madrid                       47.35    Europe\n",
       "0      UK  London                       67.22    Europe\n",
       "1  France   Paris                       67.39    Europe\n",
       "3   China     PEK                     1439.32      Asia"
      ]
     },
     "execution_count": 74,
     "metadata": {},
     "output_type": "execute_result"
    }
   ],
   "source": [
    "country_df.sort_values(by=\"Inhabitants Country in Mio\")"
   ]
  },
  {
   "cell_type": "code",
   "execution_count": 75,
   "id": "0989d64d",
   "metadata": {},
   "outputs": [
    {
     "ename": "TypeError",
     "evalue": "'method' object is not subscriptable",
     "output_type": "error",
     "traceback": [
      "\u001b[0;31m---------------------------------------------------------------------------\u001b[0m",
      "\u001b[0;31mTypeError\u001b[0m                                 Traceback (most recent call last)",
      "\u001b[0;32m/var/folders/t6/qgf2jdkj243882vkx9f_f2400000gn/T/ipykernel_14117/680095527.py\u001b[0m in \u001b[0;36m<module>\u001b[0;34m\u001b[0m\n\u001b[0;32m----> 1\u001b[0;31m \u001b[0mcountry_df\u001b[0m\u001b[0;34m.\u001b[0m\u001b[0mgroupby\u001b[0m\u001b[0;34m[\u001b[0m\u001b[0;34m'Continent'\u001b[0m\u001b[0;34m]\u001b[0m\u001b[0;34m\u001b[0m\u001b[0;34m\u001b[0m\u001b[0m\n\u001b[0m",
      "\u001b[0;31mTypeError\u001b[0m: 'method' object is not subscriptable"
     ]
    }
   ],
   "source": [
    "country_df.groupby['Continent']"
   ]
  },
  {
   "cell_type": "markdown",
   "id": "34430882",
   "metadata": {},
   "source": [
    "Then we add the corresonding continents:"
   ]
  },
  {
   "cell_type": "code",
   "execution_count": 76,
   "id": "0bf1adca",
   "metadata": {},
   "outputs": [
    {
     "data": {
      "text/html": [
       "<div>\n",
       "<style scoped>\n",
       "    .dataframe tbody tr th:only-of-type {\n",
       "        vertical-align: middle;\n",
       "    }\n",
       "\n",
       "    .dataframe tbody tr th {\n",
       "        vertical-align: top;\n",
       "    }\n",
       "\n",
       "    .dataframe thead th {\n",
       "        text-align: right;\n",
       "    }\n",
       "</style>\n",
       "<table border=\"1\" class=\"dataframe\">\n",
       "  <thead>\n",
       "    <tr style=\"text-align: right;\">\n",
       "      <th></th>\n",
       "      <th>Inhabitants Country in Mio</th>\n",
       "    </tr>\n",
       "    <tr>\n",
       "      <th>Continent</th>\n",
       "      <th></th>\n",
       "    </tr>\n",
       "  </thead>\n",
       "  <tbody>\n",
       "    <tr>\n",
       "      <th>Africa</th>\n",
       "      <td>20.25</td>\n",
       "    </tr>\n",
       "    <tr>\n",
       "      <th>Asia</th>\n",
       "      <td>1439.32</td>\n",
       "    </tr>\n",
       "    <tr>\n",
       "      <th>Europe</th>\n",
       "      <td>181.96</td>\n",
       "    </tr>\n",
       "    <tr>\n",
       "      <th>Oceania</th>\n",
       "      <td>0.01</td>\n",
       "    </tr>\n",
       "  </tbody>\n",
       "</table>\n",
       "</div>"
      ],
      "text/plain": [
       "           Inhabitants Country in Mio\n",
       "Continent                            \n",
       "Africa                          20.25\n",
       "Asia                          1439.32\n",
       "Europe                         181.96\n",
       "Oceania                          0.01"
      ]
     },
     "execution_count": 76,
     "metadata": {},
     "output_type": "execute_result"
    }
   ],
   "source": [
    "country_df[[\"Inhabitants Country in Mio\", \"Continent\"]].groupby('Continent').sum()"
   ]
  },
  {
   "cell_type": "markdown",
   "id": "f1358d7f",
   "metadata": {},
   "source": [
    "# TASK III: <a class=\"anchor\" id=\"task3\"></a>\n",
    "\n",
    "Catalunya has 7.57 Mio inhabitants. Imagine that it gets independent today. Update the number of inhabitants in the row of Spain, and change the name \"Spain\" to \"Spain (wo Catalunya)\". Try not to calculate 47.35-7.57 yourself.\n",
    "\n",
    "##### Hint: There are several possible ways:\n",
    "1. using **set_index()**, **loc**, **-=**, **rename**, and **reset_index()** \n",
    "2. with **boolean expressions** (for the country that is Spain, do), **.index**., and two times **loc**\n",
    "3. by adding Catalunya to the table as a a new country and subtract its inhabitants from Spain.\n",
    "\n",
    "You might want to crate a copy of the current data frame, so you don't have to rerun the notebook over and over again."
   ]
  },
  {
   "cell_type": "code",
   "execution_count": 77,
   "id": "ea6e8f76",
   "metadata": {},
   "outputs": [],
   "source": [
    "country_df_copy = country_df.copy()"
   ]
  },
  {
   "cell_type": "markdown",
   "id": "d0d44edc",
   "metadata": {},
   "source": [
    "## 1."
   ]
  },
  {
   "cell_type": "code",
   "execution_count": 133,
   "id": "e2ac35e1",
   "metadata": {},
   "outputs": [
    {
     "data": {
      "text/html": [
       "<div>\n",
       "<style scoped>\n",
       "    .dataframe tbody tr th:only-of-type {\n",
       "        vertical-align: middle;\n",
       "    }\n",
       "\n",
       "    .dataframe tbody tr th {\n",
       "        vertical-align: top;\n",
       "    }\n",
       "\n",
       "    .dataframe thead th {\n",
       "        text-align: right;\n",
       "    }\n",
       "</style>\n",
       "<table border=\"1\" class=\"dataframe\">\n",
       "  <thead>\n",
       "    <tr style=\"text-align: right;\">\n",
       "      <th></th>\n",
       "      <th>Country</th>\n",
       "      <th>Capital</th>\n",
       "      <th>Inhabitants Country in Mio</th>\n",
       "      <th>Continent</th>\n",
       "    </tr>\n",
       "  </thead>\n",
       "  <tbody>\n",
       "    <tr>\n",
       "      <th>0</th>\n",
       "      <td>UK</td>\n",
       "      <td>London</td>\n",
       "      <td>67.22</td>\n",
       "      <td>Europe</td>\n",
       "    </tr>\n",
       "    <tr>\n",
       "      <th>1</th>\n",
       "      <td>France</td>\n",
       "      <td>Paris</td>\n",
       "      <td>67.39</td>\n",
       "      <td>Europe</td>\n",
       "    </tr>\n",
       "    <tr>\n",
       "      <th>2</th>\n",
       "      <td>Spain</td>\n",
       "      <td>Madrid</td>\n",
       "      <td>47.35</td>\n",
       "      <td>Europe</td>\n",
       "    </tr>\n",
       "    <tr>\n",
       "      <th>3</th>\n",
       "      <td>China</td>\n",
       "      <td>PEK</td>\n",
       "      <td>1439.32</td>\n",
       "      <td>Asia</td>\n",
       "    </tr>\n",
       "    <tr>\n",
       "      <th>4</th>\n",
       "      <td>Mali</td>\n",
       "      <td>BKO</td>\n",
       "      <td>20.25</td>\n",
       "      <td>Africa</td>\n",
       "    </tr>\n",
       "    <tr>\n",
       "      <th>5</th>\n",
       "      <td>Nauru</td>\n",
       "      <td>INU</td>\n",
       "      <td>0.01</td>\n",
       "      <td>Oceania</td>\n",
       "    </tr>\n",
       "  </tbody>\n",
       "</table>\n",
       "</div>"
      ],
      "text/plain": [
       "  Country Capital  Inhabitants Country in Mio Continent\n",
       "0      UK  London                       67.22    Europe\n",
       "1  France   Paris                       67.39    Europe\n",
       "2   Spain  Madrid                       47.35    Europe\n",
       "3   China     PEK                     1439.32      Asia\n",
       "4    Mali     BKO                       20.25    Africa\n",
       "5   Nauru     INU                        0.01   Oceania"
      ]
     },
     "execution_count": 133,
     "metadata": {},
     "output_type": "execute_result"
    }
   ],
   "source": [
    "country_df"
   ]
  },
  {
   "cell_type": "code",
   "execution_count": 134,
   "id": "2c1f09b8",
   "metadata": {},
   "outputs": [
    {
     "data": {
      "text/html": [
       "<div>\n",
       "<style scoped>\n",
       "    .dataframe tbody tr th:only-of-type {\n",
       "        vertical-align: middle;\n",
       "    }\n",
       "\n",
       "    .dataframe tbody tr th {\n",
       "        vertical-align: top;\n",
       "    }\n",
       "\n",
       "    .dataframe thead th {\n",
       "        text-align: right;\n",
       "    }\n",
       "</style>\n",
       "<table border=\"1\" class=\"dataframe\">\n",
       "  <thead>\n",
       "    <tr style=\"text-align: right;\">\n",
       "      <th></th>\n",
       "      <th>Capital</th>\n",
       "      <th>Inhabitants Country in Mio</th>\n",
       "      <th>Continent</th>\n",
       "    </tr>\n",
       "    <tr>\n",
       "      <th>Country</th>\n",
       "      <th></th>\n",
       "      <th></th>\n",
       "      <th></th>\n",
       "    </tr>\n",
       "  </thead>\n",
       "  <tbody>\n",
       "    <tr>\n",
       "      <th>UK</th>\n",
       "      <td>London</td>\n",
       "      <td>67.22</td>\n",
       "      <td>Europe</td>\n",
       "    </tr>\n",
       "    <tr>\n",
       "      <th>France</th>\n",
       "      <td>Paris</td>\n",
       "      <td>67.39</td>\n",
       "      <td>Europe</td>\n",
       "    </tr>\n",
       "    <tr>\n",
       "      <th>Spain</th>\n",
       "      <td>Madrid</td>\n",
       "      <td>39.78</td>\n",
       "      <td>Europe</td>\n",
       "    </tr>\n",
       "    <tr>\n",
       "      <th>China</th>\n",
       "      <td>PEK</td>\n",
       "      <td>1439.32</td>\n",
       "      <td>Asia</td>\n",
       "    </tr>\n",
       "    <tr>\n",
       "      <th>Mali</th>\n",
       "      <td>BKO</td>\n",
       "      <td>20.25</td>\n",
       "      <td>Africa</td>\n",
       "    </tr>\n",
       "    <tr>\n",
       "      <th>Nauru</th>\n",
       "      <td>INU</td>\n",
       "      <td>0.01</td>\n",
       "      <td>Oceania</td>\n",
       "    </tr>\n",
       "  </tbody>\n",
       "</table>\n",
       "</div>"
      ],
      "text/plain": [
       "        Capital  Inhabitants Country in Mio Continent\n",
       "Country                                              \n",
       "UK       London                       67.22    Europe\n",
       "France    Paris                       67.39    Europe\n",
       "Spain    Madrid                       39.78    Europe\n",
       "China       PEK                     1439.32      Asia\n",
       "Mali        BKO                       20.25    Africa\n",
       "Nauru       INU                        0.01   Oceania"
      ]
     },
     "execution_count": 134,
     "metadata": {},
     "output_type": "execute_result"
    }
   ],
   "source": [
    "country_df1 = country_df.set_index('Country')\n",
    "country_df1.loc['Spain','Inhabitants Country in Mio'] -= 7.57\n",
    "\n",
    "country_df1"
   ]
  },
  {
   "cell_type": "code",
   "execution_count": 135,
   "id": "f7c2efb4",
   "metadata": {},
   "outputs": [
    {
     "data": {
      "text/html": [
       "<div>\n",
       "<style scoped>\n",
       "    .dataframe tbody tr th:only-of-type {\n",
       "        vertical-align: middle;\n",
       "    }\n",
       "\n",
       "    .dataframe tbody tr th {\n",
       "        vertical-align: top;\n",
       "    }\n",
       "\n",
       "    .dataframe thead th {\n",
       "        text-align: right;\n",
       "    }\n",
       "</style>\n",
       "<table border=\"1\" class=\"dataframe\">\n",
       "  <thead>\n",
       "    <tr style=\"text-align: right;\">\n",
       "      <th></th>\n",
       "      <th>Capital</th>\n",
       "      <th>Inhabitants Country in Mio</th>\n",
       "      <th>Continent</th>\n",
       "    </tr>\n",
       "    <tr>\n",
       "      <th>Country</th>\n",
       "      <th></th>\n",
       "      <th></th>\n",
       "      <th></th>\n",
       "    </tr>\n",
       "  </thead>\n",
       "  <tbody>\n",
       "    <tr>\n",
       "      <th>UK</th>\n",
       "      <td>London</td>\n",
       "      <td>67.22</td>\n",
       "      <td>Europe</td>\n",
       "    </tr>\n",
       "    <tr>\n",
       "      <th>France</th>\n",
       "      <td>Paris</td>\n",
       "      <td>67.39</td>\n",
       "      <td>Europe</td>\n",
       "    </tr>\n",
       "    <tr>\n",
       "      <th>Spain (wo Catalonia)</th>\n",
       "      <td>Madrid</td>\n",
       "      <td>39.78</td>\n",
       "      <td>Europe</td>\n",
       "    </tr>\n",
       "    <tr>\n",
       "      <th>China</th>\n",
       "      <td>PEK</td>\n",
       "      <td>1439.32</td>\n",
       "      <td>Asia</td>\n",
       "    </tr>\n",
       "    <tr>\n",
       "      <th>Mali</th>\n",
       "      <td>BKO</td>\n",
       "      <td>20.25</td>\n",
       "      <td>Africa</td>\n",
       "    </tr>\n",
       "    <tr>\n",
       "      <th>Nauru</th>\n",
       "      <td>INU</td>\n",
       "      <td>0.01</td>\n",
       "      <td>Oceania</td>\n",
       "    </tr>\n",
       "  </tbody>\n",
       "</table>\n",
       "</div>"
      ],
      "text/plain": [
       "                     Capital  Inhabitants Country in Mio Continent\n",
       "Country                                                           \n",
       "UK                    London                       67.22    Europe\n",
       "France                 Paris                       67.39    Europe\n",
       "Spain (wo Catalonia)  Madrid                       39.78    Europe\n",
       "China                    PEK                     1439.32      Asia\n",
       "Mali                     BKO                       20.25    Africa\n",
       "Nauru                    INU                        0.01   Oceania"
      ]
     },
     "execution_count": 135,
     "metadata": {},
     "output_type": "execute_result"
    }
   ],
   "source": [
    "country_df1 = country_df1.rename({\"Spain\":\"Spain (wo Catalonia)\"})\n",
    "country_df1"
   ]
  },
  {
   "cell_type": "code",
   "execution_count": 136,
   "id": "868d41b0",
   "metadata": {},
   "outputs": [
    {
     "data": {
      "text/html": [
       "<div>\n",
       "<style scoped>\n",
       "    .dataframe tbody tr th:only-of-type {\n",
       "        vertical-align: middle;\n",
       "    }\n",
       "\n",
       "    .dataframe tbody tr th {\n",
       "        vertical-align: top;\n",
       "    }\n",
       "\n",
       "    .dataframe thead th {\n",
       "        text-align: right;\n",
       "    }\n",
       "</style>\n",
       "<table border=\"1\" class=\"dataframe\">\n",
       "  <thead>\n",
       "    <tr style=\"text-align: right;\">\n",
       "      <th></th>\n",
       "      <th>Country</th>\n",
       "      <th>Capital</th>\n",
       "      <th>Inhabitants Country in Mio</th>\n",
       "      <th>Continent</th>\n",
       "    </tr>\n",
       "  </thead>\n",
       "  <tbody>\n",
       "    <tr>\n",
       "      <th>0</th>\n",
       "      <td>UK</td>\n",
       "      <td>London</td>\n",
       "      <td>67.22</td>\n",
       "      <td>Europe</td>\n",
       "    </tr>\n",
       "    <tr>\n",
       "      <th>1</th>\n",
       "      <td>France</td>\n",
       "      <td>Paris</td>\n",
       "      <td>67.39</td>\n",
       "      <td>Europe</td>\n",
       "    </tr>\n",
       "    <tr>\n",
       "      <th>2</th>\n",
       "      <td>Spain (wo Catalonia)</td>\n",
       "      <td>Madrid</td>\n",
       "      <td>39.78</td>\n",
       "      <td>Europe</td>\n",
       "    </tr>\n",
       "    <tr>\n",
       "      <th>3</th>\n",
       "      <td>China</td>\n",
       "      <td>PEK</td>\n",
       "      <td>1439.32</td>\n",
       "      <td>Asia</td>\n",
       "    </tr>\n",
       "    <tr>\n",
       "      <th>4</th>\n",
       "      <td>Mali</td>\n",
       "      <td>BKO</td>\n",
       "      <td>20.25</td>\n",
       "      <td>Africa</td>\n",
       "    </tr>\n",
       "    <tr>\n",
       "      <th>5</th>\n",
       "      <td>Nauru</td>\n",
       "      <td>INU</td>\n",
       "      <td>0.01</td>\n",
       "      <td>Oceania</td>\n",
       "    </tr>\n",
       "  </tbody>\n",
       "</table>\n",
       "</div>"
      ],
      "text/plain": [
       "                Country Capital  Inhabitants Country in Mio Continent\n",
       "0                    UK  London                       67.22    Europe\n",
       "1                France   Paris                       67.39    Europe\n",
       "2  Spain (wo Catalonia)  Madrid                       39.78    Europe\n",
       "3                 China     PEK                     1439.32      Asia\n",
       "4                  Mali     BKO                       20.25    Africa\n",
       "5                 Nauru     INU                        0.01   Oceania"
      ]
     },
     "execution_count": 136,
     "metadata": {},
     "output_type": "execute_result"
    }
   ],
   "source": [
    "country_df1 = country_df1.reset_index()\n",
    "country_df1"
   ]
  },
  {
   "cell_type": "code",
   "execution_count": 137,
   "id": "dad845e8",
   "metadata": {},
   "outputs": [
    {
     "data": {
      "text/html": [
       "<div>\n",
       "<style scoped>\n",
       "    .dataframe tbody tr th:only-of-type {\n",
       "        vertical-align: middle;\n",
       "    }\n",
       "\n",
       "    .dataframe tbody tr th {\n",
       "        vertical-align: top;\n",
       "    }\n",
       "\n",
       "    .dataframe thead th {\n",
       "        text-align: right;\n",
       "    }\n",
       "</style>\n",
       "<table border=\"1\" class=\"dataframe\">\n",
       "  <thead>\n",
       "    <tr style=\"text-align: right;\">\n",
       "      <th></th>\n",
       "      <th>Country</th>\n",
       "      <th>Capital</th>\n",
       "      <th>Inhabitants Country in Mio</th>\n",
       "      <th>Continent</th>\n",
       "    </tr>\n",
       "  </thead>\n",
       "  <tbody>\n",
       "    <tr>\n",
       "      <th>0</th>\n",
       "      <td>UK</td>\n",
       "      <td>London</td>\n",
       "      <td>67.22</td>\n",
       "      <td>Europe</td>\n",
       "    </tr>\n",
       "    <tr>\n",
       "      <th>1</th>\n",
       "      <td>France</td>\n",
       "      <td>Paris</td>\n",
       "      <td>67.39</td>\n",
       "      <td>Europe</td>\n",
       "    </tr>\n",
       "    <tr>\n",
       "      <th>2</th>\n",
       "      <td>Spain (wo Catalonia)</td>\n",
       "      <td>Madrid</td>\n",
       "      <td>39.78</td>\n",
       "      <td>Europe</td>\n",
       "    </tr>\n",
       "    <tr>\n",
       "      <th>3</th>\n",
       "      <td>China</td>\n",
       "      <td>PEK</td>\n",
       "      <td>1439.32</td>\n",
       "      <td>Asia</td>\n",
       "    </tr>\n",
       "    <tr>\n",
       "      <th>4</th>\n",
       "      <td>Mali</td>\n",
       "      <td>BKO</td>\n",
       "      <td>20.25</td>\n",
       "      <td>Africa</td>\n",
       "    </tr>\n",
       "    <tr>\n",
       "      <th>5</th>\n",
       "      <td>Nauru</td>\n",
       "      <td>INU</td>\n",
       "      <td>0.01</td>\n",
       "      <td>Oceania</td>\n",
       "    </tr>\n",
       "    <tr>\n",
       "      <th>6</th>\n",
       "      <td>Catalonia</td>\n",
       "      <td>Barcelona</td>\n",
       "      <td>7.57</td>\n",
       "      <td>Europe</td>\n",
       "    </tr>\n",
       "  </tbody>\n",
       "</table>\n",
       "</div>"
      ],
      "text/plain": [
       "                Country    Capital  Inhabitants Country in Mio Continent\n",
       "0                    UK     London                       67.22    Europe\n",
       "1                France      Paris                       67.39    Europe\n",
       "2  Spain (wo Catalonia)     Madrid                       39.78    Europe\n",
       "3                 China        PEK                     1439.32      Asia\n",
       "4                  Mali        BKO                       20.25    Africa\n",
       "5                 Nauru        INU                        0.01   Oceania\n",
       "6             Catalonia  Barcelona                        7.57    Europe"
      ]
     },
     "execution_count": 137,
     "metadata": {},
     "output_type": "execute_result"
    }
   ],
   "source": [
    "df = pd.DataFrame()\n",
    "df[\"Country\"] = [\"Catalonia\"]\n",
    "df[\"Capital\"] = [\"Barcelona\"]\n",
    "df[\"Inhabitants Country in Mio\"] = [7.57]\n",
    "df[\"Continent\"] = [\"Europe\"]\n",
    "\n",
    "country_df1 =pd.concat([country_df1,\n",
    "          df],\n",
    "         ignore_index=True)\n",
    "country_df1"
   ]
  },
  {
   "cell_type": "markdown",
   "id": "17399b3c",
   "metadata": {},
   "source": [
    "## 2."
   ]
  },
  {
   "cell_type": "code",
   "execution_count": 184,
   "id": "7d58ed0d",
   "metadata": {},
   "outputs": [
    {
     "data": {
      "text/html": [
       "<div>\n",
       "<style scoped>\n",
       "    .dataframe tbody tr th:only-of-type {\n",
       "        vertical-align: middle;\n",
       "    }\n",
       "\n",
       "    .dataframe tbody tr th {\n",
       "        vertical-align: top;\n",
       "    }\n",
       "\n",
       "    .dataframe thead th {\n",
       "        text-align: right;\n",
       "    }\n",
       "</style>\n",
       "<table border=\"1\" class=\"dataframe\">\n",
       "  <thead>\n",
       "    <tr style=\"text-align: right;\">\n",
       "      <th></th>\n",
       "      <th>Country</th>\n",
       "      <th>Capital</th>\n",
       "      <th>Inhabitants Country in Mio</th>\n",
       "      <th>Continent</th>\n",
       "    </tr>\n",
       "  </thead>\n",
       "  <tbody>\n",
       "    <tr>\n",
       "      <th>2</th>\n",
       "      <td>Spain</td>\n",
       "      <td>Madrid</td>\n",
       "      <td>47.35</td>\n",
       "      <td>Europe</td>\n",
       "    </tr>\n",
       "  </tbody>\n",
       "</table>\n",
       "</div>"
      ],
      "text/plain": [
       "  Country Capital  Inhabitants Country in Mio Continent\n",
       "2   Spain  Madrid                       47.35    Europe"
      ]
     },
     "execution_count": 184,
     "metadata": {},
     "output_type": "execute_result"
    }
   ],
   "source": [
    "country_df3 = country_df\n",
    "a = country_df3[country_df3[\"Country\"]==\"Spain\"]\n",
    "a"
   ]
  },
  {
   "cell_type": "markdown",
   "id": "343e89ae",
   "metadata": {},
   "source": [
    "## 3."
   ]
  },
  {
   "cell_type": "code",
   "execution_count": 152,
   "id": "a5c3bae1",
   "metadata": {},
   "outputs": [
    {
     "data": {
      "text/html": [
       "<div>\n",
       "<style scoped>\n",
       "    .dataframe tbody tr th:only-of-type {\n",
       "        vertical-align: middle;\n",
       "    }\n",
       "\n",
       "    .dataframe tbody tr th {\n",
       "        vertical-align: top;\n",
       "    }\n",
       "\n",
       "    .dataframe thead th {\n",
       "        text-align: right;\n",
       "    }\n",
       "</style>\n",
       "<table border=\"1\" class=\"dataframe\">\n",
       "  <thead>\n",
       "    <tr style=\"text-align: right;\">\n",
       "      <th></th>\n",
       "      <th>Country</th>\n",
       "      <th>Capital</th>\n",
       "      <th>Inhabitants Country in Mio</th>\n",
       "      <th>Continent</th>\n",
       "    </tr>\n",
       "  </thead>\n",
       "  <tbody>\n",
       "    <tr>\n",
       "      <th>0</th>\n",
       "      <td>UK</td>\n",
       "      <td>London</td>\n",
       "      <td>67.22</td>\n",
       "      <td>Europe</td>\n",
       "    </tr>\n",
       "    <tr>\n",
       "      <th>1</th>\n",
       "      <td>France</td>\n",
       "      <td>Paris</td>\n",
       "      <td>67.39</td>\n",
       "      <td>Europe</td>\n",
       "    </tr>\n",
       "    <tr>\n",
       "      <th>2</th>\n",
       "      <td>Spain</td>\n",
       "      <td>Madrid</td>\n",
       "      <td>47.35</td>\n",
       "      <td>Europe</td>\n",
       "    </tr>\n",
       "    <tr>\n",
       "      <th>3</th>\n",
       "      <td>China</td>\n",
       "      <td>PEK</td>\n",
       "      <td>1439.32</td>\n",
       "      <td>Asia</td>\n",
       "    </tr>\n",
       "    <tr>\n",
       "      <th>4</th>\n",
       "      <td>Mali</td>\n",
       "      <td>BKO</td>\n",
       "      <td>20.25</td>\n",
       "      <td>Africa</td>\n",
       "    </tr>\n",
       "    <tr>\n",
       "      <th>5</th>\n",
       "      <td>Nauru</td>\n",
       "      <td>INU</td>\n",
       "      <td>0.01</td>\n",
       "      <td>Oceania</td>\n",
       "    </tr>\n",
       "    <tr>\n",
       "      <th>6</th>\n",
       "      <td>Catalonia</td>\n",
       "      <td>Barcelona</td>\n",
       "      <td>7.57</td>\n",
       "      <td>Europe</td>\n",
       "    </tr>\n",
       "  </tbody>\n",
       "</table>\n",
       "</div>"
      ],
      "text/plain": [
       "     Country    Capital  Inhabitants Country in Mio Continent\n",
       "0         UK     London                       67.22    Europe\n",
       "1     France      Paris                       67.39    Europe\n",
       "2      Spain     Madrid                       47.35    Europe\n",
       "3      China        PEK                     1439.32      Asia\n",
       "4       Mali        BKO                       20.25    Africa\n",
       "5      Nauru        INU                        0.01   Oceania\n",
       "6  Catalonia  Barcelona                        7.57    Europe"
      ]
     },
     "execution_count": 152,
     "metadata": {},
     "output_type": "execute_result"
    }
   ],
   "source": [
    "df = pd.DataFrame()\n",
    "df[\"Country\"] = [\"Catalonia\"]\n",
    "df[\"Capital\"] = [\"Barcelona\"]\n",
    "df[\"Inhabitants Country in Mio\"] = [7.57]\n",
    "df[\"Continent\"] = [\"Europe\"]\n",
    "\n",
    "country_df2 =pd.concat([country_df,\n",
    "          df],\n",
    "         ignore_index=True)\n",
    "country_df2"
   ]
  },
  {
   "cell_type": "code",
   "execution_count": 153,
   "id": "a73e7513",
   "metadata": {},
   "outputs": [
    {
     "data": {
      "text/html": [
       "<div>\n",
       "<style scoped>\n",
       "    .dataframe tbody tr th:only-of-type {\n",
       "        vertical-align: middle;\n",
       "    }\n",
       "\n",
       "    .dataframe tbody tr th {\n",
       "        vertical-align: top;\n",
       "    }\n",
       "\n",
       "    .dataframe thead th {\n",
       "        text-align: right;\n",
       "    }\n",
       "</style>\n",
       "<table border=\"1\" class=\"dataframe\">\n",
       "  <thead>\n",
       "    <tr style=\"text-align: right;\">\n",
       "      <th></th>\n",
       "      <th>Capital</th>\n",
       "      <th>Inhabitants Country in Mio</th>\n",
       "      <th>Continent</th>\n",
       "    </tr>\n",
       "    <tr>\n",
       "      <th>Country</th>\n",
       "      <th></th>\n",
       "      <th></th>\n",
       "      <th></th>\n",
       "    </tr>\n",
       "  </thead>\n",
       "  <tbody>\n",
       "    <tr>\n",
       "      <th>UK</th>\n",
       "      <td>London</td>\n",
       "      <td>67.22</td>\n",
       "      <td>Europe</td>\n",
       "    </tr>\n",
       "    <tr>\n",
       "      <th>France</th>\n",
       "      <td>Paris</td>\n",
       "      <td>67.39</td>\n",
       "      <td>Europe</td>\n",
       "    </tr>\n",
       "    <tr>\n",
       "      <th>Spain</th>\n",
       "      <td>Madrid</td>\n",
       "      <td>39.78</td>\n",
       "      <td>Europe</td>\n",
       "    </tr>\n",
       "    <tr>\n",
       "      <th>China</th>\n",
       "      <td>PEK</td>\n",
       "      <td>1439.32</td>\n",
       "      <td>Asia</td>\n",
       "    </tr>\n",
       "    <tr>\n",
       "      <th>Mali</th>\n",
       "      <td>BKO</td>\n",
       "      <td>20.25</td>\n",
       "      <td>Africa</td>\n",
       "    </tr>\n",
       "    <tr>\n",
       "      <th>Nauru</th>\n",
       "      <td>INU</td>\n",
       "      <td>0.01</td>\n",
       "      <td>Oceania</td>\n",
       "    </tr>\n",
       "    <tr>\n",
       "      <th>Catalonia</th>\n",
       "      <td>Barcelona</td>\n",
       "      <td>7.57</td>\n",
       "      <td>Europe</td>\n",
       "    </tr>\n",
       "  </tbody>\n",
       "</table>\n",
       "</div>"
      ],
      "text/plain": [
       "             Capital  Inhabitants Country in Mio Continent\n",
       "Country                                                   \n",
       "UK            London                       67.22    Europe\n",
       "France         Paris                       67.39    Europe\n",
       "Spain         Madrid                       39.78    Europe\n",
       "China            PEK                     1439.32      Asia\n",
       "Mali             BKO                       20.25    Africa\n",
       "Nauru            INU                        0.01   Oceania\n",
       "Catalonia  Barcelona                        7.57    Europe"
      ]
     },
     "execution_count": 153,
     "metadata": {},
     "output_type": "execute_result"
    }
   ],
   "source": [
    "country_df2 = country_df2.set_index('Country')\n",
    "country_df2.loc['Spain','Inhabitants Country in Mio'] -= country_df2.loc['Catalonia','Inhabitants Country in Mio']\n",
    "country_df2"
   ]
  },
  {
   "cell_type": "code",
   "execution_count": 154,
   "id": "02bd5ca0",
   "metadata": {},
   "outputs": [
    {
     "data": {
      "text/html": [
       "<div>\n",
       "<style scoped>\n",
       "    .dataframe tbody tr th:only-of-type {\n",
       "        vertical-align: middle;\n",
       "    }\n",
       "\n",
       "    .dataframe tbody tr th {\n",
       "        vertical-align: top;\n",
       "    }\n",
       "\n",
       "    .dataframe thead th {\n",
       "        text-align: right;\n",
       "    }\n",
       "</style>\n",
       "<table border=\"1\" class=\"dataframe\">\n",
       "  <thead>\n",
       "    <tr style=\"text-align: right;\">\n",
       "      <th></th>\n",
       "      <th>Country</th>\n",
       "      <th>Capital</th>\n",
       "      <th>Inhabitants Country in Mio</th>\n",
       "      <th>Continent</th>\n",
       "    </tr>\n",
       "  </thead>\n",
       "  <tbody>\n",
       "    <tr>\n",
       "      <th>0</th>\n",
       "      <td>UK</td>\n",
       "      <td>London</td>\n",
       "      <td>67.22</td>\n",
       "      <td>Europe</td>\n",
       "    </tr>\n",
       "    <tr>\n",
       "      <th>1</th>\n",
       "      <td>France</td>\n",
       "      <td>Paris</td>\n",
       "      <td>67.39</td>\n",
       "      <td>Europe</td>\n",
       "    </tr>\n",
       "    <tr>\n",
       "      <th>2</th>\n",
       "      <td>Spain (wo Catalonia)</td>\n",
       "      <td>Madrid</td>\n",
       "      <td>39.78</td>\n",
       "      <td>Europe</td>\n",
       "    </tr>\n",
       "    <tr>\n",
       "      <th>3</th>\n",
       "      <td>China</td>\n",
       "      <td>PEK</td>\n",
       "      <td>1439.32</td>\n",
       "      <td>Asia</td>\n",
       "    </tr>\n",
       "    <tr>\n",
       "      <th>4</th>\n",
       "      <td>Mali</td>\n",
       "      <td>BKO</td>\n",
       "      <td>20.25</td>\n",
       "      <td>Africa</td>\n",
       "    </tr>\n",
       "    <tr>\n",
       "      <th>5</th>\n",
       "      <td>Nauru</td>\n",
       "      <td>INU</td>\n",
       "      <td>0.01</td>\n",
       "      <td>Oceania</td>\n",
       "    </tr>\n",
       "    <tr>\n",
       "      <th>6</th>\n",
       "      <td>Catalonia</td>\n",
       "      <td>Barcelona</td>\n",
       "      <td>7.57</td>\n",
       "      <td>Europe</td>\n",
       "    </tr>\n",
       "  </tbody>\n",
       "</table>\n",
       "</div>"
      ],
      "text/plain": [
       "                Country    Capital  Inhabitants Country in Mio Continent\n",
       "0                    UK     London                       67.22    Europe\n",
       "1                France      Paris                       67.39    Europe\n",
       "2  Spain (wo Catalonia)     Madrid                       39.78    Europe\n",
       "3                 China        PEK                     1439.32      Asia\n",
       "4                  Mali        BKO                       20.25    Africa\n",
       "5                 Nauru        INU                        0.01   Oceania\n",
       "6             Catalonia  Barcelona                        7.57    Europe"
      ]
     },
     "execution_count": 154,
     "metadata": {},
     "output_type": "execute_result"
    }
   ],
   "source": [
    "country_df2 = country_df2.rename({\"Spain\":\"Spain (wo Catalonia)\"})\n",
    "country_df2 = country_df2.reset_index()\n",
    "country_df2"
   ]
  },
  {
   "cell_type": "markdown",
   "id": "0ca22da5",
   "metadata": {},
   "source": [
    "## 5. Final Remarks <a class=\"anchor\" id=\"5\"></a>"
   ]
  },
  {
   "cell_type": "markdown",
   "id": "85c60973",
   "metadata": {},
   "source": [
    "1. use tab completion in pandas: start to write df.pl and fill by pressing TAB to complete, e.g. to df.plot()\n",
    "2. depending on what we find in the databases that you chose, we might have to deal with Missing Data https://pandas.pydata.org/pandas-docs/stable/user_guide/missing_data.html#missing-data"
   ]
  }
 ],
 "metadata": {
  "kernelspec": {
   "display_name": "Python 3 (ipykernel)",
   "language": "python",
   "name": "python3"
  },
  "language_info": {
   "codemirror_mode": {
    "name": "ipython",
    "version": 3
   },
   "file_extension": ".py",
   "mimetype": "text/x-python",
   "name": "python",
   "nbconvert_exporter": "python",
   "pygments_lexer": "ipython3",
   "version": "3.9.7"
  }
 },
 "nbformat": 4,
 "nbformat_minor": 5
}
